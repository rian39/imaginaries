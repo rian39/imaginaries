{
 "cells": [
  {
   "cell_type": "code",
   "execution_count": 12,
   "metadata": {
    "collapsed": false
   },
   "outputs": [],
   "source": [
    "j = open('data/sts_journals.csv')"
   ]
  },
  {
   "cell_type": "code",
   "execution_count": 34,
   "metadata": {
    "collapsed": false
   },
   "outputs": [],
   "source": [
    "journal_query = ''.join(['\"' + s + '\" OR '  for s in journals])"
   ]
  },
  {
   "cell_type": "code",
   "execution_count": 14,
   "metadata": {
    "collapsed": false
   },
   "outputs": [],
   "source": [
    "journal_query = ''.join(['\"' + s + '\" OR '  for s in journals])"
   ]
  },
  {
   "cell_type": "code",
   "execution_count": 15,
   "metadata": {
    "collapsed": false
   },
   "outputs": [
    {
     "data": {
      "text/plain": [
       "'\"Annals of Science\" OR \"BioScience\" OR \"British Journal for the History of Science\" OR \"\"Bulletin of Science, Technology, and Society\"\" OR \"\"Configurations: A Journal of Literature, Science, and Technology\"\" OR \"Corporate Reputation Review\" OR \"Cultural Dynamics\" OR \"Current Literature on Science of Science\" OR \"Daedalus\" OR \"DEMESCI\" OR \"DISCO\" OR \"Engineering Studies\" OR \"Environmental Communication: A Journal of Nature and Culture\" OR \"\"Gender, Technology, and Development\"\" OR \"History of Science\" OR \"History of Technology\" OR \"IEEE Technology and Society Magazine\" OR \"Impact of Science on Society\" OR \"Industry & Innovation\" OR \"Information Technologies and International Development\" OR \"Interdisciplinary Science Reviews\" OR \"International Journal of Science Education\" OR \"International Studies in the Philosophy of Science\" OR \"ISIS\" OR \"Issues in Science & Technology\" OR \"\"Japan Journal for Science, Technology, and Society\"\" OR \"Journal of Biomedical Discovery and Collaboration\" OR \"Journal of Deliberative Mechanisms in Science\" OR \"Journal of Product Innovation Management\" OR \"Journal of Research in Science Teaching\" OR \"Journal of Risk Research\" OR \"Knowledge and Policy\" OR \"Minerva\" OR \"New Genetics and Society\" OR \"Osiris\" OR \"Outlook on Science Policy\" OR \"Perspectives on Global Development & Technology\" OR \"\"Perspectives on Science: Historical, Philosophical, Social\"\" OR \"Philosophy & Social Action\" OR \"Politics and the Life Sciences JA80.P64\" OR \"Project Appraisal\" OR \"Prometheus\" OR \"Public Understanding of Science\" OR \"QUIPU - Revista Latinoamericana de Historia de las Ciencias y la Tecnolog\\xc3\\xada\" OR \"R&D Management\" OR \"RAC - Revue d\\'Anthropologie des Connaissances\" OR \"REDES - Revista de Estudios Sociales de la Ciencia\" OR \"Research - Technology Management\" OR \"Research Evaluation\" OR \"Research in Higher Education\" OR \"Research Management\" OR \"Research Policy\" OR \"Revue d\\'Anthropologie des Connaissances\" OR \"Risk Analysis\" OR \"Science and Engineering Ethics\" OR \"Science and Public Policy\" OR \"Science and Society\" OR \"Science As Culture\" OR \"Science Communication\" OR \"Science Education\" OR \"Science in Context\" OR \"Science Studies\" OR \"\"Science, Technology & Human Values\"\" OR \"\"Science, Technology, and Society: An International Journal Devoted to the Developing World\"\" OR \"Scientometrics\" OR \"Social Epistemology\" OR \"Social Science & Medicine\" OR \"Social Studies of Science\" OR \"Sociology of the Sciences Yearbook\" OR \"Space Policy\" OR \"Spontaneous Generations: A Journal for the History and Philosophy of Science\" OR \"SRA - Journal of the Society of Research Administrators\" OR \"Studies in History and Philosophy of Science\" OR \"Technology Analysis and Strategic Management\" OR \"Technology and Culture\" OR \"Technology In Society\" OR \"Technology Studies\" OR '"
      ]
     },
     "execution_count": 15,
     "metadata": {},
     "output_type": "execute_result"
    }
   ],
   "source": [
    "journal_query"
   ]
  },
  {
   "cell_type": "code",
   "execution_count": 40,
   "metadata": {
    "collapsed": false
   },
   "outputs": [],
   "source": [
    "%notebook export sts_journals.ipynb"
   ]
  }
 ],
 "metadata": {
  "kernelspec": {
   "display_name": "Python 2",
   "language": "python",
   "name": "python2"
  },
  "language_info": {
   "codemirror_mode": {
    "name": "ipython",
    "version": 2
   },
   "file_extension": ".py",
   "mimetype": "text/x-python",
   "name": "python",
   "nbconvert_exporter": "python",
   "pygments_lexer": "ipython2",
   "version": "2.7.6"
  }
 },
 "nbformat": 4,
 "nbformat_minor": 0
}
