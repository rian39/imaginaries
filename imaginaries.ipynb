{
 "metadata": {
<<<<<<< HEAD
  "name": "",
  "signature": "sha256:e9b1fcdb41419d7606258b18f2987abc1e0fc2109c007d352a22754bd835582b"
=======
  "name": ""
>>>>>>> 41101769db2781a6b93efd5ceb9f87b2ca256e51
 },
 "nbformat": 3,
 "nbformat_minor": 0,
 "worksheets": [
  {
   "cells": [
    {
     "cell_type": "markdown",
     "metadata": {},
     "source": [
      "# Imaginaries and STS literatures citation analysis"
     ]
    },
    {
     "cell_type": "code",
     "collapsed": false,
     "input": [
      "%load_ext autoreload\n",
      "%autoreload 2"
     ],
     "language": "python",
     "metadata": {},
     "outputs": [],
     "prompt_number": 1
    },
    {
     "cell_type": "code",
     "collapsed": false,
     "input": [
      "import pandas as pd\n",
      "import seaborn\n",
      "import cit_anal as ca\n",
      "import pickle\n",
      "import re\n",
      "import operator\n",
      "from pylab import *\n",
      "from IPython.display import HTML"
     ],
     "language": "python",
     "metadata": {},
     "outputs": [],
     "prompt_number": 2
    },
    {
     "cell_type": "markdown",
     "metadata": {},
     "source": [
      "## Literatures: imaginaries (all humanities/social science fields) and the sts literature (from 3 major journals or from around 70 journals)\n",
      "\n",
      "The analysis explores the relation between **three literatures** - the imaginaries literature and the sts literature:\n",
      "\n",
      "1. For 'imaginaries,' the query was 'imaginaries' or 'imaginary' in any social science or humanities publication (all years);\n",
      "2. For STS, the query asked for all publications from Social Studies of Science, STHV and Science as Culture (all years).\n",
      "3. For broader STS work, using the list of STS journals from http://www.4sonline.org/resources/journals, the 'imaginary/imaginaries' query\n",
      "\n",
      "The queries were run on Thomson Scientific Web of Science. Full records including cited references were downloaded for both literatures.\n",
      "\n"
     ]
    },
    {
     "cell_type": "code",
     "collapsed": false,
     "input": [
      "imdf = ca.load_records(dir = 'data/')\n",
      "print(str(imdf.shape[0]) + ' imaginary references across social science and humanities to Feb 2015')"
     ],
     "language": "python",
     "metadata": {},
     "outputs": [
      {
       "output_type": "stream",
       "stream": "stdout",
       "text": [
        "4962 imaginary references to Feb 2015\n"
       ]
      }
     ],
     "prompt_number": 3
    },
    {
     "cell_type": "code",
     "collapsed": false,
     "input": [
      "stsdf = ca.load_records(dir = 'data_sts_authors/')\n",
      "\n",
      "print(str(stsdf.shape[0]) + ' references published in the major sts journals to Feb 2015')"
     ],
     "language": "python",
     "metadata": {},
     "outputs": [
      {
       "output_type": "stream",
       "stream": "stdout",
       "text": [
        "3772 references published in the major sts journals to Feb 2015\n"
       ]
      }
     ],
     "prompt_number": 4
    },
    {
     "cell_type": "markdown",
     "metadata": {},
     "source": [
      "Whereas the STS literature comes from 3 journals, the imaginaries literature comes from many journals and fields. Many of these fields overlap to some degree. Literature predominates, quite massively."
     ]
    },
    {
     "cell_type": "code",
     "collapsed": false,
     "input": [
      "\n",
      "\n",
      "## to get simplified view\n",
      "\n",
      "imdf = ca.field_normalise(imdf)\n",
      "\n",
      "\n",
      "vc = imdf.field.value_counts()[0:30]\n",
      "vc.plot(kind='barh', alpha=0.3, color='k', figsize=(10,8), legend=True)\n",
      "\n",
      "print(imdf.WC.value_counts()[0:30])"
     ],
     "language": "python",
     "metadata": {},
     "outputs": [
      {
       "output_type": "stream",
       "stream": "stdout",
       "text": [
        "Literature                                                      474\n",
        "Literature, Romance                                             425\n",
        "History                                                         367\n",
        "Anthropology                                                    172\n",
        "Art                                                             164\n",
        "Philosophy                                                      153\n",
        "Geography                                                       144\n",
        "Sociology                                                       112\n",
        "Film, Radio, Television                                          97\n",
        "Language & Linguistics; Literature                               74\n",
        "Religion                                                         73\n",
        "Environmental Studies; Geography                                 70\n",
        "Cultural Studies                                                 66\n",
        "Political Science                                                62\n",
        "Area Studies                                                     57\n",
        "Communication                                                    49\n",
        "Literary Theory & Criticism                                      44\n",
        "Women's Studies                                                  41\n",
        "History & Philosophy Of Science                                  36\n",
        "Social Sciences, Interdisciplinary                               30\n",
        "Literary Theory & Criticism; Literature                          23\n",
        "Art; Humanities, Multidisciplinary                               23\n",
        "Language & Linguistics; Literature, Romance                      21\n",
        "History; Religion                                                21\n",
        "Area Studies; Humanities, Multidisciplinary                      21\n",
        "Environmental Studies; Urban Studies                             18\n",
        "Urban Studies                                                    17\n",
        "Humanities, Multidisciplinary; Social Sciences, Interdisciplinary     15\n",
        "History; Literature, Romance                                     15\n",
        "Geography; Planning & Development; Urban Studies                 15\n",
        "dtype: int64\n"
       ]
      },
      {
       "metadata": {},
       "output_type": "display_data",
<<<<<<< HEAD
       "png": "iVBORw0KGgoAAAANSUhEUgAAAuIAAAHcCAYAAACTe89/AAAABHNCSVQICAgIfAhkiAAAAAlwSFlz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\nYII=\n",
       "text": [
        "<matplotlib.figure.Figure at 0x7f6587420490>"
=======
       "png": "iVBORw0KGgoAAAANSUhEUgAAAvEAAAHaCAYAAACJuxaJAAAABHNCSVQICAgIfAhkiAAAAAlwSFlz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\nRERERAzm/wN6X9mGzHTILwAAAABJRU5ErkJggg==\n",
       "text": [
        "<matplotlib.figure.Figure at 0x642d8d0>"
>>>>>>> 41101769db2781a6b93efd5ceb9f87b2ca256e51
       ]
      }
     ],
     "prompt_number": 5
    },
    {
     "cell_type": "markdown",
     "metadata": {},
     "source": [
      "Similarly the publication venues of for the imaginaries literature are quite diverse. In the list below, _Environment and Planning D_ and _Theory, Culture & Society_ stand out as places where STS articles might also appear. But basically, the imaginaries literature is in literature journals, and particularly the French ones (7 of the top 10). "
     ]
    },
    {
     "cell_type": "code",
     "collapsed": false,
     "input": [
      "print(imdf.SO.value_counts()[0:50])"
     ],
     "language": "python",
     "metadata": {},
     "outputs": [
      {
       "output_type": "stream",
       "stream": "stdout",
       "text": [
        "STUDI FRANCESI                                                  71\n",
        "FRENCH STUDIES                                                  52\n",
        "REVUE D HISTOIRE LITTERAIRE DE LA FRANCE                        42\n",
        "QUINZAINE LITTERAIRE                                            37\n",
        "ENVIRONMENT AND PLANNING D-SOCIETY & SPACE                      36\n",
        "GEOFORUM                                                        35\n",
        "ENVIRONMENT AND PLANNING A                                      34\n",
        "MODERN LANGUAGE REVIEW                                          34\n",
        "FRENCH REVIEW                                                   33\n",
        "RLC-REVUE DE LITTERATURE COMPAREE                               29\n",
        "AMERICAN HISTORICAL REVIEW                                      28\n",
        "THEORY CULTURE & SOCIETY                                        26\n",
        "CONNAISSANCE DES ARTS                                           25\n",
        "CULTURAL STUDIES                                                24\n",
        "INTERNATIONAL JOURNAL OF URBAN AND REGIONAL RESEARCH            24\n",
        "ROMANTISME                                                      23\n",
        "SOCIAL & CULTURAL GEOGRAPHY                                     21\n",
        "NOUVELLE REVUE FRANCAISE                                        21\n",
        "RIVISTA DI LETTERATURE MODERNE E COMPARATE                      20\n",
        "REVISTA IBEROAMERICANA                                          19\n",
        "HISTORIA MEXICANA                                               19\n",
        "CINEFORUM                                                       18\n",
        "WORLD LITERATURE TODAY                                          18\n",
        "TEXTUAL PRACTICE                                                18\n",
        "HOMME                                                           18\n",
        "POSITIF                                                         17\n",
        "CULTURAL GEOGRAPHIES                                            17\n",
        "ETUDES ANGLAISES                                                16\n",
        "OEIL-MAGAZINE INTERNATIONAL D ART                               16\n",
        "SODOM ALS SYMPTOM: GLEICHGESCHLECHTLICHE SEXUALITAT IM CHRISTLICHEN IMAGINAREN: RELIGIONSGESCHICHTLICHE ANAMNESE. A HISTORY OF RELIGION    16\n",
        "ETHNIC AND RACIAL STUDIES                                       16\n",
        "SOCIOLOGICAL REVIEW                                             16\n",
        "ANTIPODE                                                        15\n",
        "SCRIPTA NOVA-REVISTA ELECTRONICA DE GEOGRAFIA Y CIENCIAS SOCIALES    15\n",
        "KUNSTWERK                                                       15\n",
        "REVISTA DE CRITICA LITERARIA LATINOAMERICANA                    15\n",
        "EURE-REVISTA LATINOAMERICANA DE ESTUDIOS URBANO REGIONALES      15\n",
        "ZEITSCHRIFT FUR ANGLISTIK UND AMERIKANISTIK                     15\n",
        "NINETEENTH-CENTURY FRENCH STUDIES                               15\n",
        "ANNALS OF THE ASSOCIATION OF AMERICAN GEOGRAPHERS               15\n",
        "AMERICAN ETHNOLOGIST                                            15\n",
        "BULLETIN OF HISPANIC STUDIES                                    15\n",
        "URBAN STUDIES                                                   14\n",
        "ANGLIA-ZEITSCHRIFT FUR ENGLISCHE PHILOLOGIE                     14\n",
        "ETUDES LITTERAIRES                                              14\n",
        "TRANSYLVANIAN REVIEW                                            13\n",
        "GENDER PLACE AND CULTURE                                        13\n",
        "FOREIGN LITERATURE STUDIES                                      13\n",
        "ETUDES FRANCAISES                                               13\n",
        "AMERICAN ANTHROPOLOGIST                                         13\n",
        "dtype: int64\n"
       ]
      }
     ],
     "prompt_number": 6
    },
    {
     "cell_type": "markdown",
     "metadata": {},
     "source": [
      "## Does the disciplinary mix of the imaginaries literature change over time?\n"
     ]
    },
    {
     "cell_type": "code",
     "collapsed": false,
     "input": [
      "#simplify the fields a bit -- they are too complicated\n",
      "\n",
      "fields_df  =ca.fields_over_time(imdf)\n",
      "cols = [col for col in fields_df.columns if fields_df[col].sum()>80]\n",
      "fields_df[cols].cumsum().plot(alpha=0.6, legend=True, figsize=(14,10), lw=5, title='Publications by field (top 10; cumulative count)')\n"
     ],
     "language": "python",
     "metadata": {},
     "outputs": [
      {
       "metadata": {},
       "output_type": "pyout",
       "prompt_number": 7,
       "text": [
        "<matplotlib.axes.AxesSubplot at 0x7f6587276790>"
       ]
      },
      {
       "metadata": {},
       "output_type": "display_data",
       "png": "iVBORw0KGgoAAAANSUhEUgAAAzIAAAJZCAYAAABycQAAAAAABHNCSVQICAgIfAhkiAAAAAlwSFlz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\nt6qchH8IAAAAAElFTkSuQmCC\n",
       "text": [
        "<matplotlib.figure.Figure at 0x7f6587f3a250>"
       ]
      }
     ],
     "prompt_number": 7
    },
    {
     "cell_type": "markdown",
     "metadata": {},
     "source": [
      "The imaginaries iterature has grown  most steeply in literature, literature (romance languages) and history, especially since 2000. These graphs are _not_ normalised by discipline size. That is, they are perhaps many more publications in literature and history in general than say anthropology or sociology. Nearly all fields seem to show a much steeper growth since around 2005. \n",
      "\n",
      "There is no point graphing this for the STS literature -- it is all code by a three fields, which is quite striking in itself. Why is it coded so narrowly by the Web of Science?"
     ]
    },
    {
     "cell_type": "code",
     "collapsed": false,
     "input": [
      "stsdf.WC.value_counts()"
     ],
     "language": "python",
     "metadata": {},
     "outputs": [
      {
       "metadata": {},
       "output_type": "pyout",
<<<<<<< HEAD
       "prompt_number": 9,
=======
       "prompt_number": 7,
>>>>>>> 41101769db2781a6b93efd5ceb9f87b2ca256e51
       "text": [
        "Social Issues                                        1819\n",
        "History & Philosophy Of Science                      1774\n",
        "Cultural Studies; History & Philosophy Of Science     121\n",
        "dtype: int64"
       ]
      }
     ],
<<<<<<< HEAD
     "prompt_number": 9
=======
     "prompt_number": 7
>>>>>>> 41101769db2781a6b93efd5ceb9f87b2ca256e51
    },
    {
     "cell_type": "markdown",
     "metadata": {},
     "source": [
      "# Who are the main authors in the two literatures, and who publishes in both literatures?\n",
      "\n",
      "Given its multi-disciplinary span, I don't expect the imaginaries literature to have any major authors, but there might be some key figures worth looking at. It has **3900** unique authors.\n",
      "\n",
      "The STS literature is much more coherent. It only has **2700** unique authors. Much more co-authorship appears here too.\n"
     ]
    },
    {
     "cell_type": "code",
     "collapsed": false,
     "input": [
      "im_au = ca.author_list(imdf)\n",
      "im_au_unique = set(im_au)\n",
      "print('Number of authors in imaginaries literature: '+ str(len(im_au)))\n",
      "print('Number of unique authors in imaginaries literature: '+ str(len(im_au_unique)))\n",
      "im_au_counts = {au:im_au.count(au) for au in im_au_unique}\n",
      "print(sorted(im_au_counts.iteritems(), key = operator.itemgetter(1), reverse=True)[0:20])\n",
      "print('\\n\\n')\n",
      "sts_au = ca.author_list(stsdf)\n",
      "sts_au_unique = set(sts_au)\n",
      "print('Number of authors in sts literature: '+ str(len(sts_au)))\n",
      "print('Number of unique authors in sts literature: '+ str(len(sts_au_unique)))\n",
      "sts_au_counts = {au:sts_au.count(au) for au in sts_au_unique}\n",
      "print(sorted(sts_au_counts.iteritems(), key = operator.itemgetter(1), reverse=True)[0:20])"
     ],
     "language": "python",
     "metadata": {},
     "outputs": [
      {
       "output_type": "stream",
       "stream": "stdout",
       "text": [
        "Number of authors in imaginaries literature: 5442\n",
        "Number of unique authors in imaginaries literature: 3868\n",
        "[('nan', 1281), ('[anonymous]', 41), ('brinkschroeder, michael', 15), ('comuzio, e', 7), ('sandiford, keith', 6), ('cesbron, g', 6), ('minca, claudio', 5), ('decaux, a', 4), ('prytherch, david l.', 4), ('pernot, d', 4), ('nahin, paul j.', 4), ('laurie, nina', 3), ('erni, john nguyet', 3), ('chen, fanfan', 3), ('kanceff, e', 3), ('jasanoff, sheila', 3), ('campbell, j', 3), ('lacroix, jean', 3), ('routledge, paul', 3), ('battaglia, d', 3)]"
       ]
      },
      {
       "output_type": "stream",
       "stream": "stdout",
       "text": [
        "\n",
        "\n",
        "\n",
        "\n",
        "Number of authors in sts literature: 4883\n",
        "Number of unique authors in sts literature: 2739\n",
        "[('[anonymous]', 525), ('nan', 58), ('collins, hm', 33), ('lynch, m', 27), ('lafollette, mc', 18), ('mulkay, m', 18), ('pinch, t', 17), ('mackenzie, d', 17), ('gorman, me', 15), ('bloor, d', 15), ('woolgar, s', 15), ('yearley, s', 15), ('lynch, michael', 15), ('fuller, s', 14), ('jasanoff, s', 14), ('edge, d', 14), ('martin, b', 13), ('nelkin, d', 13), ('levidow, l', 12), ('barnes, b', 12)]"
       ]
      },
      {
       "output_type": "stream",
       "stream": "stdout",
       "text": [
        "\n"
       ]
      }
     ],
<<<<<<< HEAD
     "prompt_number": 10
=======
     "prompt_number": 8
>>>>>>> 41101769db2781a6b93efd5ceb9f87b2ca256e51
    },
    {
     "cell_type": "markdown",
     "metadata": {},
     "source": [
      "The intersection between the author lists in both literatures is quite small. Only **52** authors publish in both:"
     ]
    },
    {
     "cell_type": "code",
     "collapsed": false,
     "input": [
      "# overlap between author list\n",
      "\n",
      "intersect = im_au_unique.intersection(sts_au_unique)\n",
      "print(str(len(intersect)) + ' authors appear in both literatures')\n",
      "print(intersect)"
     ],
     "language": "python",
     "metadata": {},
     "outputs": [
      {
       "output_type": "stream",
       "stream": "stdout",
       "text": [
        "53 authors appear in both literatures\n",
        "set(['sorensen, estrid', 'walker, mb', 'prince, ruth j.', 'prasad, amit', 'gottweis, h', 'smith, d', 'rapp, rayna', 'johnson, p', 'kellner, d', 'levidow, les', 'curtis, b', 'waterton, c', 'geissler, p. wenzel', 'nan', 'bayma, t', 'manderscheid, katharina', 'greenberg, m', 'hyysalo, sampsa', '[anonymous]', 'star, sl', 'taylor, peter j.', 'woehrer, veronika', 'moon, s', 'miller, c', 'geschiere, p', 'schmaus, w', 'smith, elta', 'cohen, l', 'chambers, r', 'harrasser, doris', 'wynne, b', 'kim, sang-hyun', 'cutting, andrew', 'rosen, p', 'oreskes, naomi', 'jasanoff, sheila', 'mazlish, b', 'pels, d', 'durbin, pt', 'aitken, mhairi', 'townsend, christopher', 'campbell, elaine', 'bowker, gc', 'koch, gertraud', 'fraser, suzanne', 'adams, c', 'reardon, jenny', 'papadopoulos, dimitris', 'tomaselli, s', 'sanders, s', 'pickersgill, martyn', 'fortun, m', 'porter, r'])\n"
       ]
      }
     ],
<<<<<<< HEAD
     "prompt_number": 11
=======
     "prompt_number": 9
>>>>>>> 41101769db2781a6b93efd5ceb9f87b2ca256e51
    },
    {
     "cell_type": "markdown",
     "metadata": {},
     "source": [
      "## Cited references in the imaginaries literature\n",
      "\n",
      "The aim here is to see:\n",
      "\n",
      "1. what references are cited?\n",
      "2. what references are cited most often?\n",
      "\n",
      "The references cited give some idea of what the imaginaries literature is drawing on, and how it relates to different social science and humanities fields.\n"
     ]
    },
    {
     "cell_type": "markdown",
     "metadata": {},
     "source": [
      "### What references are cited in the imaginaries literature?"
     ]
    },
    {
     "cell_type": "code",
     "collapsed": false,
     "input": [
      "cited_refs = imdf.cited_refs.tolist()\n",
      "\n",
      "cited_refs_full  =[r for ret in imdf.cited_refs for r in ret]\n",
      "\n",
      "# the unique set of cited refs\n",
      "cited_ref_set={r for ret in imdf.cited_refs for r in ret}\n",
      "print('There are ' + str(len(cited_ref_set)) + ' unique references cited')"
     ],
     "language": "python",
     "metadata": {},
     "outputs": [
      {
       "output_type": "stream",
       "stream": "stdout",
       "text": [
        "There are 88074 unique references cited\n"
       ]
      }
     ],
<<<<<<< HEAD
     "prompt_number": 12
=======
     "prompt_number": 10
>>>>>>> 41101769db2781a6b93efd5ceb9f87b2ca256e51
    },
    {
     "cell_type": "code",
     "collapsed": true,
     "input": [
      "\t# DON'T RUN THIS UNLESS NECESSARY - it takes ages\n",
      "    #to see what is cited most -- this takes a couple of minutes, so I'm saving it\n",
      "ref_counts ={ref:cited_refs_full.count(ref) for ref in cited_ref_set}\n",
      "pickle.dump(ref_counts, file=open('imref_counts.pyd', 'w'))"
     ],
     "language": "python",
     "metadata": {},
     "outputs": [],
     "prompt_number": 11
    },
    {
     "cell_type": "code",
     "collapsed": false,
     "input": [
      "\t# to look at range of values, easier in a series\n",
      "imref_counts = pickle.load( file=open('imref_counts.pyd', 'r'))\n",
      "ref_counts_s=pd.Series(imref_counts.values(), index = imref_counts.keys())\n",
      "ref_counts_s = ref_counts_s.dropna().order(ascending=False)\n",
      "print('There are ' + str(sum(ref_counts_s >1)) + ' references cited more than once')"
     ],
     "language": "python",
     "metadata": {},
     "outputs": [
      {
       "output_type": "stream",
       "stream": "stdout",
       "text": [
        "There are 4950 references cited more than once\n"
       ]
      }
     ],
     "prompt_number": 12
    },
    {
     "cell_type": "markdown",
     "metadata": {},
     "source": [
      "### Who is cited most in the imaginaries literature?\n",
      "\n",
      "Looking at the citation counts, the most cited authors are pretty much expected - Anderson, Appadurai, Butler, Said, etc. They are 'big names' in general in the humanites and social sceince. Some of the most cited come from the 'imaginary' world: Anderson, Taylor, Castoriadis, Gaonkar, Lacan, etc.  There are a few sts figures here too: Latour and Haraway. I will explore their presence below. \n"
     ]
    },
    {
     "cell_type": "code",
     "collapsed": false,
     "input": [
      "print(ref_counts_s[ref_counts_s>10][1:50])"
     ],
     "language": "python",
     "metadata": {},
     "outputs": [
      {
       "output_type": "stream",
       "stream": "stdout",
       "text": [
        "anderson benjamin, 1991, imagined communities                   82\n",
        "appadurai arjun, 1996, modernity large cult                     57\n",
        "taylor charles, 2004, modern social imagin                      48\n",
        "anderson b., 1983, imagined communities                         47\n",
        "castoriadis cornelius, 1987, imaginary i soc                    43\n",
        "bhabha h. k., 1994, location culture                            39\n",
        "lefebvre henri, 1991, production space                          39\n",
        "said edward w., 1978, orientalism                               38\n",
        "hardt m., 2000, empire                                          31\n",
        "latour b., 1993, we have never been m                           27\n",
        "zizek s., 1989, sublime object ideol                            25\n",
        "haraway donna j., 1991, simians cyborgs wome                    25\n",
        "habermas jurgen, 1989, structural transform                     25\n",
        "bakhtin m., 1981, dialogic imagination                          23\n",
        "butler j., 1990, gender trouble femin                           22\n",
        "harvey david, 1989, condition postmodern                        22\n",
        "massey d, 1994, space place gender                              22\n",
        "said e. w., 1979, orientalism                                   22\n",
        "taylor c, 2002, public culture, v14, p91, doi 10.1215/08992363-14-1-91    22\n",
        "gilroy paul, 1993, black atlantic moder                         22\n",
        "mcclintock anne, 1995, imperial leather rac                     21\n",
        "sibley david, 1995, geographies exclusio                        21\n",
        "bourdieu p, 1977, outline theory pract                          21\n",
        "geertz c., 1973, interpretation cultu                           20\n",
        "massey d., 2005, space                                          20\n",
        "giddens a., 1991, modernity self ident                          19\n",
        "clifford james, 1997, routes travel transl                      19\n",
        "ong a., 1999, flexible citizenship                              18\n",
        "laclau ernesto, 1985, hegemony socialist s                      18\n",
        "beck u, 1992, risk soc new moderni                              18\n",
        "gaonkar dp, 2002, public culture, v14, p1, doi 10.1215/08992363-14-1-1    17\n",
        "butler j., 1993, bodies matter discur                           17\n",
        "deleuze g, 1987, 1000 plateaus capita                           17\n",
        "said edward, 1993, culture imperialism                          17\n",
        "decerteau m, 1984, practice everyday li                         15\n",
        "pratt mary louise, 1992, imperial eyes travel                   15\n",
        "bourdieu pierre, 1984, distinction social c                     15\n",
        "harvey d, 1996, justice nature geogr                            15\n",
        "brah a., 1996, cartographies diaspo                             15\n",
        "williams raymond, 1973, country city                            15\n",
        "gregory derek, 1994, geographical imagina                       14\n",
        "harvey d, 2005, brief hist neolibera                            14\n",
        "gramsci a, 1971, selections prison no                           14\n",
        "fabian johannes, 1983, time other anthr mak                     14\n",
        "lacan j, 1966, ecrits                                           14\n",
        "de certeau m, 1984, practice everyday li                        14\n",
        "latour b., 1999, pandoras hope essays                           13\n",
        "lacan jacques, 1977, ecrits                                     13\n",
        "escobar a, 1995, encountering dev mak                           13\n",
        "dtype: int64\n"
       ]
      }
     ],
     "prompt_number": 13
    },
    {
     "cell_type": "markdown",
     "metadata": {},
     "source": [
      "## For the STS literature\n",
      "\n",
      "Now ask the same questions of the STS literature\n",
      "\n",
      "\n",
      "   1. what references are cited?\n",
      "   2.  what references are cited most often?\n"
     ]
    },
    {
     "cell_type": "markdown",
     "metadata": {},
     "source": [
      "### What is cited in the STS literature?"
     ]
    },
    {
     "cell_type": "code",
     "collapsed": false,
     "input": [
      "stscited_refs = stsdf.cited_refs.tolist()\n",
      "\n",
      "stscited_refs_full  =[r for ret in stscited_refs for r in ret]\n",
      "\n",
      "# the unique set of cited refs\n",
      "stscited_ref_set={r for ret in stscited_refs for r in ret}\n",
      "print('There are ' + str(len(stscited_ref_set)) + ' unique references cited in the STS literature')"
     ],
     "language": "python",
     "metadata": {},
     "outputs": [
      {
       "output_type": "stream",
       "stream": "stdout",
       "text": [
        "There are 77624 unique references cited in the STS literature\n"
       ]
      }
     ],
     "prompt_number": 14
    },
    {
     "cell_type": "code",
     "collapsed": true,
     "input": [
      "\t##DO NOT RUN UNLESS NECESSARY - takes a while. Go straight to next cell\n",
      "    #to see what is cited most -- this takes a couple of minutes, so I'm saving it - only run occasionally\n",
      "stsref_counts ={ref:stscited_refs_full.count(ref) for ref in stscited_ref_set}\n",
      "pickle.dump(stsref_counts, file=open('stsref_counts.pyd', 'w'))\n"
     ],
     "language": "python",
     "metadata": {},
     "outputs": [],
     "prompt_number": 15
    },
    {
     "cell_type": "code",
     "collapsed": false,
     "input": [
      "\t# to look at range of values, easier in a series\n",
      "stsref_counts = pickle.load( file=open('stsref_counts.pyd', 'r'))\n",
      "stsref_counts_s=pd.Series(stsref_counts.values(), index = stsref_counts.keys())\n",
      "stsref_counts_s = stsref_counts_s.dropna().order(ascending=False)\n",
      "print('There are ' + str(sum(stsref_counts_s >1)) + ' references cited more than once')"
     ],
     "language": "python",
     "metadata": {},
     "outputs": [
      {
       "output_type": "stream",
       "stream": "stdout",
       "text": [
        "There are 8307 references cited more than once\n"
       ]
      }
     ],
     "prompt_number": 16
    },
    {
     "cell_type": "markdown",
     "metadata": {},
     "source": [
      "### Who is cited most in the STS literature?\n",
      "\n",
      "As the table below shows, the most cited authors in STS are much more clearly STS. This is a pretty inward focused literature, with only a few outsiders showing up -- Beck, and perhaps Garfinkel.  No Butlers or Appadurai's in the A-list citations. Actually, judging by this analysis, the field of STS should be called 'Latour studies.'\n",
      "\n",
      "In other ways, the STS literature is broader. Although imaginaries cites 88000 references and STS 76000,which is roughly commensurate, STS cites **11388** or so  references more than once whereas the imaginaries literature only cites **4300**. This is despite the fact that they are roughly the same size. This suggests that STS actually draws on a wider span of publications than the imaginaries literature. \n",
      "\n",
      "More importantly, the citation counts are massively higher in the STS literature. (Collins 2002) is higher than Appadurai in the imaginaries literature. Despite the breadth of its cited literature, STS is a much more focused literature. It cites the same references more often."
     ]
    },
    {
     "cell_type": "code",
     "collapsed": false,
     "input": [
      "print(pd.DataFrame(stsref_counts_s[stsref_counts_s>10]).head(50))"
     ],
     "language": "python",
     "metadata": {},
     "outputs": [
      {
       "output_type": "stream",
       "stream": "stdout",
       "text": [
        "                                                                                  0\n",
        "nan                                                                             325\n",
        "latour b., 1987, sci action follow sc                                           179\n",
        "latour bruno, 1987, sci action                                                  113\n",
        "bijker w., 1987, social construction                                             92\n",
        "collins h.m., 1985, changing order repli                                         90\n",
        "latour b, 1979, laboratory life soci                                             90\n",
        "bloor d., 1976, knowledge social ima                                             89\n",
        "star sl, 1989, soc stud sci, v19, p387, doi 10.1177/030631289019003001           89\n",
        "knorr-cetina k., 1981, manufacture knowledg                                      79\n",
        "kuhn t. s., 1970, structure sci revolu                                           70\n",
        "callon m., 1986, power action belief, p196                                       67\n",
        "collins hm, 1975, sociology, v9, p205, doi 10.1177/003803857500900202            66\n",
        "gilbert g. n., 1984, opening pandoras box                                        66\n",
        "gieryn tf, 1983, am sociol rev, v48, p781, doi 10.2307/2095325                   65\n",
        "latour b., 1993, we have never been m                                            64\n",
        "haraway d., 1991, simians cyborgs wome                                           62\n",
        "epstein s., 1996, impure sci aids acti                                           61\n",
        "traweek s., 1988, beamtimes lifetimes                                            61\n",
        "gieryn t.f, cultural boundaries                                                  61\n",
        "shapin s., 1985, leviathan air pump h                                            61\n",
        "hughes t.p., 1983, networks power elect                                          60\n",
        "latour b, 1988, pasteurization franc                                             60\n",
        "haraway d., 1997, modest witness 2 mil                                           60\n",
        "collins hm, 2002, soc stud sci, v32, p235, doi 10.1177/0306312702032002003       57\n",
        "latour b., 1986, lab life constructio                                            56\n",
        "kuhn t. s., 1962, structure sci revolu                                           55\n",
        "bowker g. c., 1999, sorting things out c                                         53\n",
        "akrich m., 1992, shaping technology b, p205                                      53\n",
        "gibbons michael, 1994, new production knowl                                      52\n",
        "porter theodore m., 1995, trust numbers pursui                                   52\n",
        "mol a., 2002, body multiple ontolo                                               51\n",
        "fleck l., 1979, genesis dev sci fact                                             49\n",
        "latour b, 1979, lab life social cons                                             49\n",
        "jasanoff s, 1990, 5 branch sci adviser                                           48\n",
        "latour b., 1983, sci observed perspec, p141                                      47\n",
        "beck u., 1992, risk soc new moderni                                              47\n",
        "latour bruno, 1999, pandoras hope essays                                         47\n",
        "pinch tj, 1984, soc stud sci, v14, p399, doi 10.1177/030631284014003004          47\n",
        "jasanoff sheila, 2005, designs nature sci d                                      46\n",
        "collins hm, 1974, sci stud, v4, p165, doi 10.1177/030631277400400203             46\n",
        "fujimura jh, 1987, soc stud sci, v17, p257, doi 10.1177/030631287017002003       45\n",
        "bijker w., 1995, bicycles bakelites b                                            44\n",
        "garfinkel h., 1967, studies ethnomethodo                                         42\n",
        "shapin steve, 1985, leviathan air pump                                           41\n",
        "pickering a, 1995, mangle practice time                                          40\n",
        "collins hm, 1981, soc stud sci, v11, p3, doi 10.1177/030631278101100101          40\n",
        "winner l, 1993, sci technol hum val, v18, p362, doi 10.1177/016224399301800306   39\n",
        "collins h., 1990, artificial experts s                                           39\n",
        "suchman l.a., 1987, plans situated actio                                         39\n",
        "lynch michael, 1985, art artifact lab sci                                        39\n"
       ]
      }
     ],
     "prompt_number": 17
    },
    {
     "cell_type": "markdown",
     "metadata": {},
     "source": [
      "## The intersection between the STS and the imaginaries literature\n",
      "\n",
      "A couple of questions here:\n",
      "\n",
      "1. What is intersection between the most-cited references in STS and imaginaries?\n",
      "2. How does STS literature cite the imaginaries literature?\n",
      "3. How is the STS literature present in the imaginaries literature?\n"
     ]
    },
    {
     "cell_type": "markdown",
     "metadata": {},
     "source": [
      "### Who do they both cite? The intersection between STS and imaginaries in terms of who they both cite ('co-citation')\n",
      "\n",
      "The overlap in the cited references is around **2500** references. "
     ]
    },
    {
     "cell_type": "code",
     "collapsed": false,
     "input": [
      "print(str(len(cited_ref_set.intersection(stscited_ref_set))) + ' references are found in the cited references in both literatures')"
     ],
     "language": "python",
     "metadata": {},
     "outputs": [
      {
       "output_type": "stream",
       "stream": "stdout",
       "text": [
        "2456 references are found in the cited references in both literatures\n"
       ]
      }
     ],
     "prompt_number": 18
    },
    {
     "cell_type": "markdown",
     "metadata": {},
     "source": [
      "Here is the list of references that are common to both -- too long to look at properly. It'd be good to sort them by order of importance -- e.g. how often they are cited."
     ]
    },
    {
     "cell_type": "code",
     "collapsed": true,
     "input": [
      "stsim_cocit = sorted(list(cited_ref_set.intersection(stscited_ref_set)))\n",
      "stsim_cocit[100:120]"
     ],
     "language": "python",
     "metadata": {},
     "outputs": [
      {
       "metadata": {},
       "output_type": "pyout",
       "prompt_number": 19,
       "text": [
        "['armstrong d, 1995, sociol health ill, v17, p393, doi 10.1111/1467-9566.ep10933329',\n",
        " 'arnheim rudolf, 1969, visual thinking',\n",
        " 'arnold david, 1993, colonizing body stat',\n",
        " 'aronowitz r. a., 1998, making sense illness',\n",
        " 'arrigo ba, 2001, int j offender ther, v45, p325, doi 10.1177/0306624x01453005',\n",
        " 'ashmore m., 1989, reflexive thesis wri',\n",
        " 'atkinson j. m., 1979, order court org verb',\n",
        " 'atkinson j. m., 1984, our masters voices l',\n",
        " 'atkinson p., 1990, ethnographic imagina',\n",
        " 'atran s, 1998, behav brain sci, v21, p547',\n",
        " 'attwood d. w., 1992, raising cane politic',\n",
        " 'auckland l., 2010, b atomic sci',\n",
        " 'auge marc, 1995, nonplaces intro anth',\n",
        " 'austin j. l., 1962, things words',\n",
        " 'austin j.l., 1962, sense sensibilia',\n",
        " 'austin jl, 1962, how to do things wor',\n",
        " 'bachelard g., 1983, water dreams essay i',\n",
        " 'bachelard g., 1984, new sci spirit',\n",
        " 'bailey s., 1992, sch shortchange girl',\n",
        " 'baird d, 2004, thing knowledge: a philosophy of scientific instruments, p1']"
       ]
      }
     ],
     "prompt_number": 19
    },
    {
     "cell_type": "markdown",
     "metadata": {},
     "source": [
      "Given this is too long to look at, we might be able to get a rough idea by counting the surnames -- this is rough, but gives an idea of where the overlap lies:"
     ]
    },
    {
     "cell_type": "code",
     "collapsed": false,
     "input": [
      "\n",
      "author_refs = [ref.split(' ')[0] for ref in stsim_cocit]\n",
      "author_refs_set = set(author_refs)\n",
      "au_counts = {au:author_refs.count(au)  for au in author_refs_set}\n",
      "sts_im_cited_intersection = sorted(au_counts.iteritems(), key=operator.itemgetter(1), reverse=True)\n",
      "\n",
      "print('There are ' + str(len(sts_im_cited_intersection)) + ' references co-cited between the imaginaries and STS literature\\n\\n')\n",
      "print(pd.DataFrame(sts_im_cited_intersection[0:100],columns=['author', 'count']).head(30))\n"
     ],
     "language": "python",
     "metadata": {},
     "outputs": [
      {
       "output_type": "stream",
       "stream": "stdout",
       "text": [
        "There are 1397 references co-cited between the imaginaries and STS literature\n",
        "\n",
        "\n",
        "       author  count\n",
        "0    foucault     42\n",
        "1      latour     37\n",
        "2    bourdieu     15\n",
        "3        beck     14\n",
        "4         law     14\n",
        "5    jasanoff     14\n",
        "6   mackenzie     13\n",
        "7    habermas     13\n",
        "8   strathern     13\n",
        "9    williams     12\n",
        "10    haraway     12\n",
        "11      brown     11\n",
        "12    derrida     11\n",
        "13   thompson     11\n",
        "14       rose     11\n",
        "15         de     10\n",
        "16    goffman     10\n",
        "17     callon     10\n",
        "18     butler     10\n",
        "19      smith     10\n",
        "20    rabinow     10\n",
        "21     miller      9\n",
        "22      wynne      9\n",
        "23     thrift      9\n",
        "24     martin      9\n",
        "25        van      9\n",
        "26     cooper      8\n",
        "27   anderson      8\n",
        "28     taylor      8\n",
        "29     clarke      8\n"
       ]
      }
     ],
     "prompt_number": 23
    },
    {
     "cell_type": "markdown",
     "metadata": {},
     "source": [
      " \n",
      "\n",
      "There are **1497** references co-cited by the imaginaries and STS literature. Again, this is somewhat rough because it is just using surnames. These references could be grouped in different ways, but a couple of features standout. \n",
      "\n",
      "-  The philosophy intersection -- Foucault, Derrida, Marx, Deleuze, Wittgenstein, Heidegger, Baumann, Benjamin, Zizek, Butler\n",
      "-  The sociology intersection -- Bourdieu, Goffman, Beck, Williams, Castells, Merton, Weber, Baudrillard, Luhmann, Boltanski\n",
      "-  The political theory intersection -- Habermas, Laclau, Mouffe, Taylor, Dean\n",
      "-  The STSish intersections -- Latour, Law, Callon, Jasanoff, Wynne, Rheinberger, Mackenzie, Suchman, Pickering, Woolgar, Barry, Bijker, Collins\n",
      "-  The feminist intersection -- Butler, Haraway\n",
      "-  The anthropology intersection -- Strathern, Rabinow, Franklin, Appadurai,Comaroff, Geertz, Lock\n",
      "-  The historian/philospher of science intersection -- Kuhn, Hacking, Porter, Young, Daston\n",
      "-  The media/cultural studies intersection -- Hall, Williams, Haraway, Keller\n",
      "\n"
     ]
    },
    {
     "cell_type": "markdown",
     "metadata": {},
     "source": [
      "### How is the STS literature included in the imaginaries literature?\n",
      "\n",
      "This question can be answered a couple of different ways:\n",
      "\n",
      "- the STS literature is a part of the imaginaries literature, but only a small part judged by journal articles. Of the 3500 imaginaries publications, only a dozen or so appear in STS journals."
     ]
    },
    {
     "cell_type": "code",
     "collapsed": false,
     "input": [
      "# query for journal SOC STUD SCI, SCI TECHNOL HUM VAL, SCIENCE CULTURE in the imaginaries dataset\n",
      "sss = 'SOC STUD SCI|Social Studies of Science'\n",
      "sthv = 'SCI TECHNOL HUM VAL|SCIENCE TECHNOLOGY & HUMAN VALUES'\n",
      "sac = 'SCIENCE AS CULTURE'\n",
      "patn = re.compile('|'.join([sss, sthv, sac]), re.IGNORECASE)\n",
      "\n",
      "journals = imdf.SO.tolist()\n",
      "\n",
      "l=[i.group() for i in [patn.search(str(s)) for s in journals] if i is not None]\n",
      "print(str(len(l)) + ' STS journal articles appear in the imaginaries literature')\n"
     ],
     "language": "python",
     "metadata": {},
     "outputs": [
      {
       "output_type": "stream",
       "stream": "stdout",
       "text": [
        "10 STS journal articles appear in the imaginaries literature\n"
       ]
      }
     ],
     "prompt_number": 24
    },
    {
     "cell_type": "markdown",
     "metadata": {},
     "source": [
      "- How does the imaginaries literature cite authors who 'belong' to sts? There are around 2500 STS authors in the STS literature. How are they cited amidst the 88000 references cited in the imaginaries literature?"
     ]
    },
    {
     "cell_type": "code",
     "collapsed": false,
     "input": [
      "# set of unique sts authors\n",
      "stsau = list(ca.author_list(stsdf, True))\n",
      "\n",
      "#take out commas\n",
      "stsau_pattern= ['('+au.replace(',', '')+')' for au in stsau]\n",
      "\n",
      "# regular expressions can only deal with 100 at a time, so break pattern into chunks\n",
      "au_patterns = [re.compile('|'.join(stsau_pattern[i:i+99])) for i in xrange(0, len(stsau_pattern), 99)]"
     ],
     "language": "python",
     "metadata": {},
     "outputs": [],
     "prompt_number": 25
    },
    {
     "cell_type": "code",
     "collapsed": false,
     "input": [
      "# search for all sts literature authors in the cited references of the imaginaries literature\n",
      "# this search takes a while as it is searching for how often 2500 authors appear in the 88000 cited references\n",
      "res_full=[au_pattern.search(ref)  for ref in cited_refs_full for au_pattern in au_patterns]"
     ],
     "language": "python",
     "metadata": {},
     "outputs": [],
     "prompt_number": 16
    },
    {
     "cell_type": "code",
     "collapsed": true,
     "input": [
      "# count how often they appear in the cited refs for imaginaries literature\n",
      "sts_authors_cited = sorted([r.group() for  r in res_full if r is not None and len(r.group())>1])\n",
      "# load pickle below to save time"
     ],
     "language": "python",
     "metadata": {},
     "outputs": [
      {
       "ename": "NameError",
       "evalue": "name 'res_full' is not defined",
       "output_type": "pyerr",
       "traceback": [
        "\u001b[1;31m---------------------------------------------------------------------------\u001b[0m\n\u001b[1;31mNameError\u001b[0m                                 Traceback (most recent call last)",
        "\u001b[1;32m<ipython-input-56-c42f1aad2d27>\u001b[0m in \u001b[0;36m<module>\u001b[1;34m()\u001b[0m\n\u001b[0;32m      1\u001b[0m \u001b[1;31m# count how often they appear in the cited refs for imaginaries literature\u001b[0m\u001b[1;33m\u001b[0m\u001b[1;33m\u001b[0m\u001b[0m\n\u001b[1;32m----> 2\u001b[1;33m \u001b[0msts_authors_cited\u001b[0m \u001b[1;33m=\u001b[0m \u001b[0msorted\u001b[0m\u001b[1;33m(\u001b[0m\u001b[1;33m[\u001b[0m\u001b[0mr\u001b[0m\u001b[1;33m.\u001b[0m\u001b[0mgroup\u001b[0m\u001b[1;33m(\u001b[0m\u001b[1;33m)\u001b[0m \u001b[1;32mfor\u001b[0m  \u001b[0mr\u001b[0m \u001b[1;32min\u001b[0m \u001b[0mres_full\u001b[0m \u001b[1;32mif\u001b[0m \u001b[0mr\u001b[0m \u001b[1;32mis\u001b[0m \u001b[1;32mnot\u001b[0m \u001b[0mNone\u001b[0m \u001b[1;32mand\u001b[0m \u001b[0mlen\u001b[0m\u001b[1;33m(\u001b[0m\u001b[0mr\u001b[0m\u001b[1;33m.\u001b[0m\u001b[0mgroup\u001b[0m\u001b[1;33m(\u001b[0m\u001b[1;33m)\u001b[0m\u001b[1;33m)\u001b[0m\u001b[1;33m>\u001b[0m\u001b[1;36m1\u001b[0m\u001b[1;33m]\u001b[0m\u001b[1;33m)\u001b[0m\u001b[1;33m\u001b[0m\u001b[0m\n\u001b[0m\u001b[0;32m      3\u001b[0m \u001b[1;31m# load pickle above to save time\u001b[0m\u001b[1;33m\u001b[0m\u001b[1;33m\u001b[0m\u001b[0m\n",
        "\u001b[1;31mNameError\u001b[0m: name 'res_full' is not defined"
       ]
      }
     ],
     "prompt_number": 56
    },
    {
     "cell_type": "code",
     "collapsed": false,
     "input": [
      "# has been pickled to save time \n",
      "# if rerunning, need to pickle again, etc.\n",
      "#pickle.dump(sts_authors_cited, file=open(name='sts_cited_authors_cited.pyd', mode='wb'))\n",
      "sts_authors_cited = pickle.load(file=open('sts_cited_authors_cited.pyd', mode='rb'))"
     ],
     "language": "python",
     "metadata": {},
     "outputs": [],
     "prompt_number": 26
    },
    {
     "cell_type": "code",
     "collapsed": false,
     "input": [
      "print('There are ' + str(len(sts_authors_cited)) + ' references to STS authors in the imaginaries literature')"
     ],
     "language": "python",
     "metadata": {},
     "outputs": [
      {
       "output_type": "stream",
       "stream": "stdout",
       "text": [
        "There are 2564 references to STS authors in the imaginaries literature\n"
       ]
      }
     ],
     "prompt_number": 27
    },
    {
     "cell_type": "markdown",
     "metadata": {},
     "source": [
      "The author names need to be cleaned up for duplicates,etc, but it is fairly clear that the imaginaries literature cites the STS literature along similar lines fairly heavily. Some of the authors in the STS literature are not particularly STSish (e.g. Sherry Turkle or Mary Douglas or Douglas Kellner).  \n",
      "\n",
      "More importantly, it is fairly clear that only a **relatively small proportion** of the STS literature enters into the imaginaries literature. The total STS references amount to **2500** of the 88000, and the number of authors who actually get cited more than a few times account for the vast majority of citations of STS literature in the imaginaries literature (1800 out of 2500) is quite small -- around **150** authors.\n",
      "\n"
     ]
    },
    {
     "cell_type": "code",
     "collapsed": false,
     "input": [
      "sts_authors_cited_counts = {au:sts_authors_cited.count(au) for au in set(sts_authors_cited)}\n",
      "sorted_sts_cited_authors = sorted(sts_authors_cited_counts.iteritems(), key=operator.itemgetter(1), reverse=True)\n",
      "\n",
      "print(str(len(sorted_sts_cited_authors)) + ' STS authors are cited in the imaginaries literature')\n",
      "print(str(len([a for a in sorted_sts_cited_authors if a[1]>=5])) + ' of these are cited 5 or more times')\n",
      "print(str(sum([cited[1] for cited in sorted_sts_cited_authors if cited[1] >=5])) + ' of the 2500 references from STS come this latter group')\n",
      "print('\\n\\n')\n",
      "\n",
      "print(pd.DataFrame(sorted_sts_cited_authors[0:30], columns=['author', 'count']).head(30))"
     ],
     "language": "python",
     "metadata": {},
     "outputs": [
      {
       "output_type": "stream",
       "stream": "stdout",
       "text": [
        "526 STS authors are cited in the imaginaries literature\n",
        "145 of these are cited 5 or more times\n",
        "1846 of the 2500 references from STS come this latter group\n",
        "\n",
        "\n",
        "\n",
        "          author  count\n",
        "0       latour b    188\n",
        "1          law j     79\n",
        "2         berg m     53\n",
        "3        smith d     50\n",
        "4       taylor p     44\n",
        "5      douglas m     39\n",
        "6          ney s     33\n",
        "7       callon m     33\n",
        "8     jasanoff s     30\n",
        "9         mann g     27\n",
        "10       smith r     25\n",
        "11      martin e     24\n",
        "12       brown p     23\n",
        "13   mackenzie d     23\n",
        "14       wynne b     21\n",
        "15   geschiere p     21\n",
        "16         bal r     20\n",
        "17     taylor pj     19\n",
        "18       nandy a     19\n",
        "19         lee s     18\n",
        "20       smith e     18\n",
        "21     kellner d     18\n",
        "22  latour bruno     17\n",
        "23       cohen l     17\n",
        "24    johnston r     17\n",
        "25        hard m     16\n",
        "26      martin p     16\n",
        "27         lee j     15\n",
        "28      turkle s     15\n",
        "29    williams b     15\n"
       ]
      }
     ],
     "prompt_number": 28
    },
    {
     "cell_type": "markdown",
     "metadata": {},
     "source": [
      "These authors are not the quite the same authors who appeared in the intersection between the imaginaries and STS citations. Here we are looking at how often people publishing in STS journals are cited in imaginaries literature. Some of the names are the same -- Latour, Law, Mackenzie, Wynne -- but many of the top names in the intersection between the cited references do not appear here -- Haraway, Foucault, Strathern -- mainly because they have never published in STS journals. \n",
      "\n",
      "There are also names here -- Marc Berg, Emily Martin -- that didn't appear in the imaginaries-STS intersection at all. These are cases where STS work is being taken into the wider imaginaries literature."
     ]
    },
    {
     "cell_type": "markdown",
     "metadata": {},
     "source": [
      "### How does the STS literature cite the imaginaries literature?\n",
      "\n",
      "This is a key question. To get a rough idea, look for which of the 3868 imaginaries authors are cited in the 76000 references cited in sts literature."
     ]
    },
    {
     "cell_type": "code",
     "collapsed": false,
     "input": [
      "# set of unique sts authors\n",
      "imau = list(ca.author_list(imdf, True))\n",
      "\n",
      "#take out commas\n",
      "imau_pattern= ['('+au.replace(',', '')+')' for au in imau]\n",
      "\n",
      "# regular expressions can only deal with 100 at a time, so break pattern into chunks\n",
      "\n",
      "imau_patterns = [re.compile('|'.join(imau_pattern[i:i+99])) for i in xrange(0, len(imau_pattern), 99)]\n",
      "print('There are ' + str(len(imau)) + ' unique authors in imaginaries literature')"
     ],
     "language": "python",
     "metadata": {},
     "outputs": [
      {
       "output_type": "stream",
       "stream": "stdout",
       "text": [
        "There are 3868 unique authors in imaginaries literature\n"
       ]
      }
     ],
     "prompt_number": 29
    },
    {
     "cell_type": "code",
     "collapsed": true,
     "input": [
      "imres_full=[imau_pattern.search(ref)  for ref in stscited_refs_full for imau_pattern in imau_patterns]"
     ],
     "language": "python",
     "metadata": {},
     "outputs": []
    },
    {
     "cell_type": "markdown",
     "metadata": {},
     "source": [
      "Here is the list of imaginary authors cited in the sts literature. Some of them are STS people, since STS authors have contributed to the imaginaries literature, especially when they published outside the major STS journals."
     ]
    },
    {
     "cell_type": "code",
     "collapsed": false,
     "input": [
      "\n",
      "print(set(sorted([r.group() for  r in imres_full if r is not None and len(r.group())>1])))"
     ],
     "language": "python",
     "metadata": {},
     "outputs": []
    },
    {
     "cell_type": "markdown",
     "metadata": {},
     "source": [
      "Breaking this down a bit further,  if the STS literature cites around 7500 unique references, roughly 350 of these come from the imaginaries literature authors. Amongst this group, roughly 100 imaginaries authors account for most of the references from the STS literature. Judging from the list below, some of the key references are authors who overlap between STS and other fields. "
     ]
    },
    {
     "cell_type": "code",
     "collapsed": false,
     "input": [
      "im_authors_cited = sorted([r.group() for  r in imres_full if r is not None and len(r.group())>1])\n",
      "\n",
      "print('There are ' + str(len(im_authors_cited)) + ' references to imaginary authors in the STS literature')\n",
      "im_authors_cited_counts = {au:im_authors_cited.count(au) for au in set(im_authors_cited)}\n",
      "sorted_im_cited_authors = sorted(im_authors_cited_counts.iteritems(), key=operator.itemgetter(1), reverse=True)\n",
      "im_au_total = len(im_authors_cited)\n",
      "print(str(len(sorted_im_cited_authors)) + ' individual imaginary authors are cited in the STS literature')\n",
      "print(str(len([a for a in sorted_im_cited_authors if a[1]>=5])) + ' of these are cited 5 or more times')\n",
      "print(str(sum([cited[1] for cited in sorted_im_cited_authors if cited[1] >=5])) + ' of the ' + str(im_au_total) + ' references from STS come this latter group')\n",
      "print('\\n')\n",
      "\n",
      "print(sorted_im_cited_authors[0:30])"
     ],
     "language": "python",
     "metadata": {},
     "outputs": [
      {
       "output_type": "stream",
       "stream": "stdout",
       "text": [
        "There are 4035 references to imaginary authors in the STS literature\n",
        "364 individual imaginary authors are cited in the STS literature\n",
        "105 of these are cited 5 or more times"
       ]
      },
      {
       "output_type": "stream",
       "stream": "stdout",
       "text": [
        "\n",
        "3587 of the 4035 references from STS come this latter group\n",
        "\n",
        "\n",
        "[('nan', 1054), ('wynne b', 410), ('star sl', 214), ('an g', 208), ('jasanoff sheila', 113), ('bowker gc', 99), ('roy s', 89), ('edwards p', 79), ('bell d', 66), ('smith d', 55), ('miller c', 48), ('berger h', 45), ('king a', 39), ('brown j', 38), ('hall s', 30), ('miller d', 30), ('pels d', 28), ('ross a', 28), ('white l', 26), ('gottweis h', 25), ('taylor c', 25), ('wright l', 24), ('porter r', 20), ('friedman m', 20), ('ford p', 20), ('witz a', 19), ('greene j', 19), ('mack j', 19), ('porter a', 18), ('waterton c', 18), ('davis d', 17), ('berman m', 17), ('hall d', 17), ('brown d', 16), ('cohen l', 16), ('rapp rayna', 15), ('joly p', 14), ('allen j', 14), ('thomas s', 14), ('deleuze gilles', 14), ('dean m', 13), ('fortun k', 13), ('fortun m', 13), ('ellis r', 12), ('white m', 12), ('adams j', 11), ('braun b', 11), ('cohen e', 11), ('thomas j', 11), ('rossi p', 11)]\n"
       ]
      }
     ],
     "prompt_number": 140
    },
    {
     "cell_type": "markdown",
     "metadata": {},
     "source": [
      "## What references are co-cited?\n",
      "\n",
      "So far, we have been looking at how the imaginaries literature is present in the STS literature, and vice versa. We have looked at this by looking for STS authors in the cited references, and in the \n",
      "\n",
      "Co-cited means that the same reference can be found cited in two 'different' publications. The fact that  two publications both cite the same reference suggests that have some relation. \n",
      "Here I looked at the cited references for all the imaginaries publications, and ask for all the intersections between cited references. The bigger the intersection between the reference lists, the more substantial is the relationship. Perhaps."
     ]
    },
    {
     "cell_type": "code",
     "collapsed": false,
     "input": [
      "im_co = ca.co_citation(imdf)\n",
      "sts_co = ca.co_citation(stsdf)"
     ],
     "language": "python",
     "metadata": {},
     "outputs": [],
     "prompt_number": 23
    },
    {
     "cell_type": "code",
     "collapsed": false,
     "input": [
      "print(str(len(im_co))+' co-citation sets exist in the imaginaries literature')\n",
      "print(str(len(sts_co))+' co-citation sets exist in the STS literature')\n"
     ],
     "language": "python",
     "metadata": {},
     "outputs": [
      {
       "output_type": "stream",
       "stream": "stdout",
       "text": [
        "58206 co-citation sets exist in the imaginaries literature\n",
        "312270 co-citation sets exist in the STS literature\n"
       ]
      }
     ],
     "prompt_number": 24
    },
    {
     "cell_type": "markdown",
     "metadata": {},
     "source": [
      "Again, the high co-citation count in STS literature shows that it is much more inwardly related than the imaginaries literature. The STS literature has roughly **five** times the number of co-citation sets as the imaginaries literature. "
     ]
    },
    {
     "cell_type": "code",
     "collapsed": false,
     "input": [
      "# only run this if repeating the analysis somehow\n",
      "\n",
      "pickle.dump(im_co, open('im_co_cit.pyd', 'w'))\n",
      "pickle.dump(sts_co, open('sts_co_cit.pyd', 'w'))"
     ],
     "language": "python",
     "metadata": {},
     "outputs": [],
     "prompt_number": 26
    },
    {
     "cell_type": "code",
     "collapsed": false,
     "input": [
      "# to see size of co-citation sets in sts\n",
      "sts_co = pickle.load(open('sts_co_cit.pyd', 'r'))\n",
      "im_co = pickle.load(open('im_co_cit.pyd', 'r'))                     \n",
      "#sorted([sts_co.count(set) for set in sts_co[0:2000]], reverse=True)[0:30]\n"
     ],
     "language": "python",
     "metadata": {},
     "outputs": [],
     "prompt_number": 20
    },
    {
     "cell_type": "code",
     "collapsed": false,
     "input": [
      "sts_co_set_lengths = sorted([len(s) for s in sts_co], reverse=True)\n",
      "im_co_set_lengths = sorted([len(s) for s in im_co], reverse=True)"
     ],
     "language": "python",
     "metadata": {},
     "outputs": [],
     "prompt_number": 28
    },
    {
     "cell_type": "code",
     "collapsed": false,
     "input": [
      "print('Size of co-cited reference sets in STS literature:', sts_co_set_lengths[0:100:2])\n",
      "print('Size of co-cited reference sets in imaginaries literature:', im_co_set_lengths[0:100:2])"
     ],
     "language": "python",
     "metadata": {},
     "outputs": [
      {
       "output_type": "stream",
       "stream": "stdout",
       "text": [
        "('Size of co-cited reference sets in STS literature:', [223, 170, 147, 142, 115, 103, 99, 91, 88, 82, 79, 77, 73, 69, 68, 67, 66, 64, 62, 60, 58, 58, 57, 56, 54, 54, 54, 50, 49, 44, 42, 40, 40, 38, 36, 36, 34, 32, 32, 32, 31, 31, 30, 29, 29, 29, 29, 28, 28, 28])\n",
        "('Size of co-cited reference sets in imaginaries literature:', [59, 27, 27, 25, 23, 23, 22, 18, 18, 17, 16, 14, 13, 13, 13, 12, 12, 11, 11, 11, 10, 10, 9, 9, 9, 9, 9, 9, 8, 8, 8, 8, 8, 8, 8, 8, 8, 8, 7, 7, 7, 7, 7, 7, 7, 7, 7, 7, 7, 7])\n"
       ]
      }
     ],
     "prompt_number": 40
    },
    {
     "cell_type": "markdown",
     "metadata": {},
     "source": [
      "Not sure what to make of this, but again, the much greater number of co-citations, and the higher co-citation counts in the STS literature suggest that it is much more internally related than the imaginaries literature. "
     ]
    }
   ],
   "metadata": {}
  }
 ]
}