{
 "metadata": {
  "name": "imaginaries"
 },
 "nbformat": 3,
 "nbformat_minor": 0,
 "worksheets": [
  {
   "cells": [
    {
     "cell_type": "markdown",
     "metadata": {},
     "source": [
      "# Imaginaries and STS literatures citation analysis"
     ]
    },
    {
     "cell_type": "code",
     "collapsed": false,
     "input": [
      "%load_ext autoreload\n",
      "%autoreload 2"
     ],
     "language": "python",
     "metadata": {},
     "outputs": [],
     "prompt_number": 1
    },
    {
     "cell_type": "code",
     "collapsed": false,
     "input": [
      "import pandas as pd\n",
      "import cit_anal as ca\n",
      "import pickle\n",
      "import re\n",
      "import operator\n",
      "from pylab import *\n",
      "from IPython.display import HTML"
     ],
     "language": "python",
     "metadata": {},
     "outputs": [],
     "prompt_number": 2
    },
    {
     "cell_type": "markdown",
     "metadata": {},
     "source": [
      "## Literatures: imaginaries (all humanities/social science fields) and the sts literature (from 3 major journals)\n",
      "\n",
      "The analysis explores the relation between **two literatures** - the imaginaries literature and the sts literature:\n",
      "\n",
      "1. For 'imaginaries,' the query was 'imaginaries or imaginary' in any social science or humanities publication (all years);\n",
      "2. For STS, the query asked for all publications from Social Studies of Science, STHV and Science as Culture (all years).\n",
      "\n",
      "The queries were run on Thomson Scientific Web of Science. Full records including cited references were downloaded for both literatures.\n",
      "\n",
      "## The literatures\n",
      "\n",
      "As it happens, there are roughly the same number of publications in both literatures. "
     ]
    },
    {
     "cell_type": "code",
     "collapsed": false,
     "input": [
      "imdf = ca.load_records(dir = 'data/')\n",
      "print(str(imdf.shape[0]) + ' imaginary references to June 2013')"
     ],
     "language": "python",
     "metadata": {},
     "outputs": [
      {
       "output_type": "stream",
       "stream": "stdout",
       "text": [
        "3690 imaginary references to June 2013\n"
       ]
      }
     ],
     "prompt_number": 3
    },
    {
     "cell_type": "code",
     "collapsed": false,
     "input": [
      "stsdf = ca.load_records(dir = 'data_sts_authors/')\n",
      "\n",
      "print(str(stsdf.shape[0]) + ' references published in the major sts journals to June 2013')"
     ],
     "language": "python",
     "metadata": {},
     "outputs": [
      {
       "output_type": "stream",
       "stream": "stdout",
       "text": [
        "3714 references published in the major sts journals to June 2013\n"
       ]
      }
     ],
     "prompt_number": 4
    },
    {
     "cell_type": "markdown",
     "metadata": {},
     "source": [
      "Whereas the STS literature comes from 3 journals, the imaginaries literature comes from many journals and fields. Many of these fields overlap to some degree. Literature predominates, quite massively."
     ]
    },
    {
     "cell_type": "code",
     "collapsed": false,
     "input": [
      "\n",
      "\n",
      "## to get simplified view\n",
      "\n",
      "imdf = ca.field_normalise(imdf)\n",
      "\n",
      "\n",
      "vc = imdf.field.value_counts()[0:30]\n",
      "vc.plot(kind='barh', alpha=0.3, color='k', figsize=(10,8), legend=True)\n",
      "\n",
      "print(imdf.WC.value_counts()[0:30])"
     ],
     "language": "python",
     "metadata": {},
     "outputs": [
      {
       "output_type": "stream",
       "stream": "stdout",
       "text": [
        "Literature                                                      474\n",
        "Literature, Romance                                             425\n",
        "History                                                         367\n",
        "Anthropology                                                    172\n",
        "Art                                                             164\n",
        "Philosophy                                                      153\n",
        "Geography                                                       144\n",
        "Sociology                                                       112\n",
        "Film, Radio, Television                                          97\n",
        "Language & Linguistics; Literature                               74\n",
        "Religion                                                         73\n",
        "Environmental Studies; Geography                                 70\n",
        "Cultural Studies                                                 66\n",
        "Political Science                                                62\n",
        "Area Studies                                                     57\n",
        "Communication                                                    49\n",
        "Literary Theory & Criticism                                      44\n",
        "Women's Studies                                                  41\n",
        "History & Philosophy Of Science                                  36\n",
        "Social Sciences, Interdisciplinary                               30\n",
        "Literary Theory & Criticism; Literature                          23\n",
        "Art; Humanities, Multidisciplinary                               23\n",
        "Language & Linguistics; Literature, Romance                      21\n",
        "History; Religion                                                21\n",
        "Area Studies; Humanities, Multidisciplinary                      21\n",
        "Environmental Studies; Urban Studies                             18\n",
        "Urban Studies                                                    17\n",
        "Humanities, Multidisciplinary; Social Sciences, Interdisciplinary     15\n",
        "History; Literature, Romance                                     15\n",
        "Geography; Planning & Development; Urban Studies                 15\n",
        "dtype: int64\n"
       ]
      },
      {
       "output_type": "display_data",
       "png": "[encoded data removed]"
      }
     ],
     "prompt_number": 9
    },
    {
     "cell_type": "markdown",
     "metadata": {},
     "source": [
      "Similarly the publication venues of for the imaginaries literature are quite diverse. In the list below, _Environment and Planning D_ and _Theory, Culture & Society_ stand out as places where STS articles might also appear. But basically, the imaginaries literature is in literature journals, and particularly the French ones (7 of the top 10). "
     ]
    },
    {
     "cell_type": "code",
     "collapsed": false,
     "input": [
      "print(imdf.SO.value_counts()[0:50])"
     ],
     "language": "python",
     "metadata": {},
     "outputs": [
      {
       "output_type": "stream",
       "stream": "stdout",
       "text": [
        "STUDI FRANCESI                                                  66\n",
        "FRENCH STUDIES                                                  48\n",
        "REVUE D HISTOIRE LITTERAIRE DE LA FRANCE                        42\n",
        "QUINZAINE LITTERAIRE                                            37\n",
        "ENVIRONMENT AND PLANNING D-SOCIETY & SPACE                      32\n",
        "FRENCH REVIEW                                                   31\n",
        "MODERN LANGUAGE REVIEW                                          31\n",
        "RLC-REVUE DE LITTERATURE COMPAREE                               29\n",
        "GEOFORUM                                                        27\n",
        "AMERICAN HISTORICAL REVIEW                                      25\n",
        "CONNAISSANCE DES ARTS                                           24\n",
        "THEORY CULTURE & SOCIETY                                        24\n",
        "ENVIRONMENT AND PLANNING A                                      23\n",
        "ROMANTISME                                                      22\n",
        "CULTURAL STUDIES                                                22\n",
        "REVISTA IBEROAMERICANA                                          19\n",
        "RIVISTA DI LETTERATURE MODERNE E COMPARATE                      18\n",
        "HOMME                                                           18\n",
        "WORLD LITERATURE TODAY                                          18\n",
        "SOCIAL & CULTURAL GEOGRAPHY                                     17\n",
        "CINEFORUM                                                       17\n",
        "HISTORIA MEXICANA                                               17\n",
        "OEIL-MAGAZINE INTERNATIONAL D ART                               16\n",
        "ETUDES ANGLAISES                                                16\n",
        "SODOM ALS SYMPTOM: GLEICHGESCHLECHTLICHE SEXUALITAT IM CHRISTLICHEN IMAGINAREN: RELIGIONSGESCHICHTLICHE ANAMNESE. A HISTORY OF RELIGION    16\n",
        "NOUVELLE REVUE FRANCAISE                                        16\n",
        "SOCIOLOGICAL REVIEW                                             15\n",
        "NINETEENTH-CENTURY FRENCH STUDIES                               15\n",
        "INTERNATIONAL JOURNAL OF URBAN AND REGIONAL RESEARCH            15\n",
        "BULLETIN OF HISPANIC STUDIES                                    15\n",
        "KUNSTWERK                                                       15\n",
        "REVISTA DE CRITICA LITERARIA LATINOAMERICANA                    15\n",
        "TEXTUAL PRACTICE                                                15\n",
        "AMERICAN ETHNOLOGIST                                            15\n",
        "POSITIF                                                         15\n",
        "CULTURAL GEOGRAPHIES                                            14\n",
        "ETUDES LITTERAIRES                                              13\n",
        "AMERICAN ANTHROPOLOGIST                                         13\n",
        "ANGLIA-ZEITSCHRIFT FUR ENGLISCHE PHILOLOGIE                     13\n",
        "REVUE HISTORIQUE                                                12\n",
        "ANTIPODE                                                        12\n",
        "POETICS TODAY                                                   12\n",
        "PUBLIC CULTURE                                                  12\n",
        "ZEITSCHRIFT FUR ANGLISTIK UND AMERIKANISTIK                     12\n",
        "DIOGENES                                                        12\n",
        "HISTORIA                                                        12\n",
        "HISTORY OF THE HUMAN SCIENCES                                   11\n",
        "SOCIAL & LEGAL STUDIES                                          11\n",
        "AMERICAN BOOK REVIEW                                            11\n",
        "SCIENCE-FICTION STUDIES                                         11\n",
        "dtype: int64\n"
       ]
      }
     ],
     "prompt_number": 10
    },
    {
     "cell_type": "markdown",
     "metadata": {},
     "source": [
      "## Does the disciplinary mix of the imaginaries literature change over time?\n"
     ]
    },
    {
     "cell_type": "code",
     "collapsed": false,
     "input": [
      "#simplify the fields a bit -- they are too complicated\n",
      "\n",
      "fields_df  =ca.fields_over_time(imdf)\n",
      "cols = [col for col in fields_df.columns if fields_df[col].sum()>80]\n",
      "fields_df[cols].cumsum().plot(alpha=0.6, legend=True, figsize=(14,10), lw=5, title='Publications by field (top 10; cumulative count)')\n"
     ],
     "language": "python",
     "metadata": {},
     "outputs": [
      {
       "output_type": "pyout",
       "prompt_number": 30,
       "text": [
        "<matplotlib.axes.AxesSubplot at 0x84fbb90>"
       ]
      },
      {
       "output_type": "display_data",
       "png": "[encoded data removed]"
      }
     ],
     "prompt_number": 30
    },
    {
     "cell_type": "markdown",
     "metadata": {},
     "source": [
      "The imaginaries iterature has grown  most steeply in literature, literature (romance languages) and history, especially since 2000. These graphs are _not_ normalised by discipline size. That is, they are perhaps many more publications in literature and history in general than say anthropology or sociology. Nearly all fields seem to show a much steeper growth since around 2005. \n",
      "\n",
      "There is no point graphing this for the STS literature -- it is all code by a three fields, which is quite striking in itself. Why is it coded so narrowly by the Web of Science?"
     ]
    },
    {
     "cell_type": "code",
     "collapsed": false,
     "input": [
      "stsdf.WC.value_counts()"
     ],
     "language": "python",
     "metadata": {},
     "outputs": [
      {
       "output_type": "pyout",
       "prompt_number": 12,
       "text": [
        "Social Issues                                        1819\n",
        "History & Philosophy Of Science                      1774\n",
        "Cultural Studies; History & Philosophy Of Science     121\n",
        "dtype: int64"
       ]
      }
     ],
     "prompt_number": 12
    },
    {
     "cell_type": "markdown",
     "metadata": {},
     "source": [
      "# Who are the main authors in the two literatures, and who publishes in both literatures?\n",
      "\n",
      "Given its multi-disciplinary span, I don't expect the imaginaries literature to have any major authors, but there might be some key figures worth looking at. It has **3900** unique authors.\n",
      "\n",
      "The STS literature is much more coherent. It only has **2700** unique authors. Much more co-authorship appears here too.\n"
     ]
    },
    {
     "cell_type": "code",
     "collapsed": false,
     "input": [
      "im_au = ca.author_list(imdf)\n",
      "im_au_unique = set(im_au)\n",
      "print('Number of authors in imaginaries literature: '+ str(len(im_au)))\n",
      "print('Number of unique authors in imaginaries literature: '+ str(len(im_au_unique)))\n",
      "im_au_counts = {au:im_au.count(au) for au in im_au_unique}\n",
      "print(sorted(im_au_counts.iteritems(), key = operator.itemgetter(1), reverse=True)[0:20])\n",
      "print('\\n\\n')\n",
      "sts_au = ca.author_list(stsdf)\n",
      "sts_au_unique = set(sts_au)\n",
      "print('Number of authors in sts literature: '+ str(len(sts_au)))\n",
      "print('Number of unique authors in sts literature: '+ str(len(sts_au_unique)))\n",
      "sts_au_counts = {au:sts_au.count(au) for au in sts_au_unique}\n",
      "print(sorted(sts_au_counts.iteritems(), key = operator.itemgetter(1), reverse=True)[0:20])"
     ],
     "language": "python",
     "metadata": {},
     "outputs": [
      {
       "output_type": "stream",
       "stream": "stdout",
       "text": [
        "Number of authors in imaginaries literature: 4170\n",
        "Number of unique authors in imaginaries literature: 3868\n",
        "[('[anonymous]', 41), ('brinkschroeder, michael', 15), ('nan', 9), ('comuzio, e', 7), ('sandiford, keith', 6), ('cesbron, g', 6), ('minca, claudio', 5), ('decaux, a', 4), ('prytherch, david l.', 4), ('pernot, d', 4), ('nahin, paul j.', 4), ('laurie, nina', 3), ('erni, john nguyet', 3), ('chen, fanfan', 3), ('kanceff, e', 3), ('jasanoff, sheila', 3), ('campbell, j', 3), ('lacroix, jean', 3), ('routledge, paul', 3), ('battaglia, d', 3)]"
       ]
      },
      {
       "output_type": "stream",
       "stream": "stdout",
       "text": [
        "\n",
        "\n",
        "\n",
        "\n",
        "Number of authors in sts literature: 4825\n",
        "Number of unique authors in sts literature: 2738\n",
        "[('[anonymous]', 525), ('collins, hm', 33), ('lynch, m', 27), ('lafollette, mc', 18), ('mulkay, m', 18), ('pinch, t', 17), ('mackenzie, d', 17), ('gorman, me', 15), ('bloor, d', 15), ('woolgar, s', 15), ('yearley, s', 15), ('lynch, michael', 15), ('fuller, s', 14), ('jasanoff, s', 14), ('edge, d', 14), ('martin, b', 13), ('nelkin, d', 13), ('levidow, l', 12), ('barnes, b', 12), ('restivo, s', 12)]"
       ]
      },
      {
       "output_type": "stream",
       "stream": "stdout",
       "text": [
        "\n"
       ]
      }
     ],
     "prompt_number": 13
    },
    {
     "cell_type": "markdown",
     "metadata": {},
     "source": [
      "The intersection between the author lists in both literatures is quite small. Only **52** authors publish in both:"
     ]
    },
    {
     "cell_type": "code",
     "collapsed": false,
     "input": [
      "# overlap between author list\n",
      "\n",
      "intersect = im_au_unique.intersection(sts_au_unique)\n",
      "print(str(len(intersect)) + ' authors appear in both literatures')\n",
      "print(intersect)"
     ],
     "language": "python",
     "metadata": {},
     "outputs": [
      {
       "output_type": "stream",
       "stream": "stdout",
       "text": [
        "52 authors appear in both literatures\n",
        "set(['sorensen, estrid', 'walker, mb', 'prince, ruth j.', 'prasad, amit', 'gottweis, h', 'smith, d', 'rapp, rayna', 'johnson, p', 'kellner, d', 'levidow, les', 'curtis, b', 'waterton, c', 'geissler, p. wenzel', 'bayma, t', 'manderscheid, katharina', 'greenberg, m', 'hyysalo, sampsa', '[anonymous]', 'star, sl', 'taylor, peter j.', 'woehrer, veronika', 'moon, s', 'miller, c', 'geschiere, p', 'schmaus, w', 'smith, elta', 'cohen, l', 'chambers, r', 'harrasser, doris', 'wynne, b', 'kim, sang-hyun', 'cutting, andrew', 'rosen, p', 'oreskes, naomi', 'jasanoff, sheila', 'mazlish, b', 'pels, d', 'durbin, pt', 'aitken, mhairi', 'townsend, christopher', 'campbell, elaine', 'bowker, gc', 'koch, gertraud', 'fraser, suzanne', 'adams, c', 'reardon, jenny', 'papadopoulos, dimitris', 'tomaselli, s', 'sanders, s', 'pickersgill, martyn', 'fortun, m', 'porter, r'])\n"
       ]
      }
     ],
     "prompt_number": 14
    },
    {
     "cell_type": "markdown",
     "metadata": {},
     "source": [
      "## Cited references in the imaginaries literature\n",
      "\n",
      "The aim here is to see:\n",
      "\n",
      "1. what references are cited?\n",
      "2. what references are cited most often?\n",
      "\n",
      "The references cited give some idea of what the imaginaries literature is drawing on, and how it relates to different social science and humanities fields.\n"
     ]
    },
    {
     "cell_type": "markdown",
     "metadata": {},
     "source": [
      "### What references are cited in the imaginaries literature?"
     ]
    },
    {
     "cell_type": "code",
     "collapsed": false,
     "input": [
      "cited_refs = imdf.cited_refs.tolist()\n",
      "\n",
      "cited_refs_full  =[r for ret in imdf.cited_refs for r in ret]\n",
      "\n",
      "# the unique set of cited refs\n",
      "cited_ref_set={r for ret in imdf.cited_refs for r in ret}\n",
      "print('There are ' + str(len(cited_ref_set)) + ' unique references cited')"
     ],
     "language": "python",
     "metadata": {},
     "outputs": [
      {
       "output_type": "stream",
       "stream": "stdout",
       "text": [
        "There are 88074 unique references cited\n"
       ]
      }
     ],
     "prompt_number": 15
    },
    {
     "cell_type": "code",
     "collapsed": true,
     "input": [
      "\t# DON'T RUN THIS UNLESS NECESSARY - it takes ages\n",
      "    #to see what is cited most -- this takes a couple of minutes, so I'm saving it\n",
      "ref_counts ={ref:cited_refs_full.count(ref) for ref in cited_ref_set}\n",
      "pickle.dump(ref_counts, file=open('imref_counts.pyd', 'w'))"
     ],
     "language": "python",
     "metadata": {},
     "outputs": [],
     "prompt_number": 149
    },
    {
     "cell_type": "code",
     "collapsed": false,
     "input": [
      "\t# to look at range of values, easier in a series\n",
      "imref_counts = pickle.load( file=open('imref_counts.pyd', 'r'))\n",
      "ref_counts_s=pd.Series(imref_counts.values(), index = imref_counts.keys())\n",
      "ref_counts_s = ref_counts_s.dropna().order(ascending=False)\n",
      "print('There are ' + str(sum(ref_counts_s >1)) + ' references cited more than once')"
     ],
     "language": "python",
     "metadata": {},
     "outputs": [
      {
       "output_type": "stream",
       "stream": "stdout",
       "text": [
        "There are 4950 references cited more than once\n"
       ]
      }
     ],
     "prompt_number": 16
    },
    {
     "cell_type": "markdown",
     "metadata": {},
     "source": [
      "### Who is cited most in the imaginaries literature?\n",
      "\n",
      "Looking at the citation counts, the most cited authors are pretty much expected - Anderson, Appadurai, Butler, Said, etc. They are 'big names' in general in the humanites and social sceince. Some of the most cited come from the 'imaginary' world: Anderson, Taylor, Castoriadis, Gaonkar, Lacan, etc.  There are a few sts figures here too: Latour and Haraway. I will explore their presence below. \n"
     ]
    },
    {
     "cell_type": "code",
     "collapsed": false,
     "input": [
      "print(ref_counts_s[ref_counts_s>10][1:50])"
     ],
     "language": "python",
     "metadata": {},
     "outputs": [
      {
       "output_type": "stream",
       "stream": "stdout",
       "text": [
        "anderson benjamin, 1991, imagined communities                   82\n",
        "appadurai arjun, 1996, modernity large cult                     57\n",
        "taylor charles, 2004, modern social imagin                      48\n",
        "anderson b., 1983, imagined communities                         47\n",
        "castoriadis cornelius, 1987, imaginary i soc                    43\n",
        "bhabha h. k., 1994, location culture                            39\n",
        "lefebvre henri, 1991, production space                          39\n",
        "said edward w., 1978, orientalism                               38\n",
        "hardt m., 2000, empire                                          31\n",
        "latour b., 1993, we have never been m                           27\n",
        "zizek s., 1989, sublime object ideol                            25\n",
        "haraway donna j., 1991, simians cyborgs wome                    25\n",
        "habermas jurgen, 1989, structural transform                     25\n",
        "bakhtin m., 1981, dialogic imagination                          23\n",
        "butler j., 1990, gender trouble femin                           22\n",
        "harvey david, 1989, condition postmodern                        22\n",
        "massey d, 1994, space place gender                              22\n",
        "said e. w., 1979, orientalism                                   22\n",
        "taylor c, 2002, public culture, v14, p91, doi 10.1215/08992363-14-1-91    22\n",
        "gilroy paul, 1993, black atlantic moder                         22\n",
        "mcclintock anne, 1995, imperial leather rac                     21\n",
        "sibley david, 1995, geographies exclusio                        21\n",
        "bourdieu p, 1977, outline theory pract                          21\n",
        "geertz c., 1973, interpretation cultu                           20\n",
        "massey d., 2005, space                                          20\n",
        "giddens a., 1991, modernity self ident                          19\n",
        "clifford james, 1997, routes travel transl                      19\n",
        "ong a., 1999, flexible citizenship                              18\n",
        "laclau ernesto, 1985, hegemony socialist s                      18\n",
        "beck u, 1992, risk soc new moderni                              18\n",
        "gaonkar dp, 2002, public culture, v14, p1, doi 10.1215/08992363-14-1-1    17\n",
        "butler j., 1993, bodies matter discur                           17\n",
        "deleuze g, 1987, 1000 plateaus capita                           17\n",
        "said edward, 1993, culture imperialism                          17\n",
        "decerteau m, 1984, practice everyday li                         15\n",
        "pratt mary louise, 1992, imperial eyes travel                   15\n",
        "bourdieu pierre, 1984, distinction social c                     15\n",
        "harvey d, 1996, justice nature geogr                            15\n",
        "brah a., 1996, cartographies diaspo                             15\n",
        "williams raymond, 1973, country city                            15\n",
        "gregory derek, 1994, geographical imagina                       14\n",
        "harvey d, 2005, brief hist neolibera                            14\n",
        "gramsci a, 1971, selections prison no                           14\n",
        "fabian johannes, 1983, time other anthr mak                     14\n",
        "lacan j, 1966, ecrits                                           14\n",
        "de certeau m, 1984, practice everyday li                        14\n",
        "latour b., 1999, pandoras hope essays                           13\n",
        "lacan jacques, 1977, ecrits                                     13\n",
        "escobar a, 1995, encountering dev mak                           13\n",
        "dtype: int64\n"
       ]
      }
     ],
     "prompt_number": 17
    },
    {
     "cell_type": "markdown",
     "metadata": {},
     "source": [
      "## For the STS literature\n",
      "\n",
      "Now ask the same questions of the STS literature\n",
      "\n",
      "\n",
      "   1. what references are cited?\n",
      "   2.  what references are cited most often?\n"
     ]
    },
    {
     "cell_type": "markdown",
     "metadata": {},
     "source": [
      "### What is cited in the STS literature?"
     ]
    },
    {
     "cell_type": "code",
     "collapsed": false,
     "input": [
      "stscited_refs = stsdf.cited_refs.tolist()\n",
      "\n",
      "stscited_refs_full  =[r for ret in stscited_refs for r in ret]\n",
      "\n",
      "# the unique set of cited refs\n",
      "stscited_ref_set={r for ret in stscited_refs for r in ret}\n",
      "print('There are ' + str(len(stscited_ref_set)) + ' unique references cited in the STS literature')"
     ],
     "language": "python",
     "metadata": {},
     "outputs": [
      {
       "output_type": "stream",
       "stream": "stdout",
       "text": [
        "There are 77624 unique references cited in the STS literature\n"
       ]
      }
     ],
     "prompt_number": 18
    },
    {
     "cell_type": "code",
     "collapsed": true,
     "input": [
      "\t##DO NOT RUN UNLESS NECESSARY - takes a while. Go straight to next cell\n",
      "    #to see what is cited most -- this takes a couple of minutes, so I'm saving it - only run occasionally\n",
      "stsref_counts ={ref:stscited_refs_full.count(ref) for ref in stscited_ref_set}\n",
      "pickle.dump(stsref_counts, file=open('stsref_counts.pyd', 'w'))\n"
     ],
     "language": "python",
     "metadata": {},
     "outputs": [],
     "prompt_number": 153
    },
    {
     "cell_type": "code",
     "collapsed": false,
     "input": [
      "\t# to look at range of values, easier in a series\n",
      "stsref_counts = pickle.load( file=open('stsref_counts.pyd', 'r'))\n",
      "stsref_counts_s=pd.Series(stsref_counts.values(), index = stsref_counts.keys())\n",
      "stsref_counts_s = stsref_counts_s.dropna().order(ascending=False)\n",
      "print('There are ' + str(sum(stsref_counts_s >1)) + ' references cited more than once')"
     ],
     "language": "python",
     "metadata": {},
     "outputs": [
      {
       "output_type": "stream",
       "stream": "stdout",
       "text": [
        "There are 11388 references cited more than once\n"
       ]
      }
     ],
     "prompt_number": 19
    },
    {
     "cell_type": "markdown",
     "metadata": {},
     "source": [
      "### Who is cited most in the STS literature?\n",
      "\n",
      "As the table below shows, the most cited authors in STS are much more clearly STS. This is a pretty inward focused literature, with only a few outsiders showing up -- Beck, and perhaps Garfinkel.  No Butlers or Appadurai's in the A-list citations. Actually, judging by this analysis, the field of STS should be called 'Latour studies.'\n",
      "\n",
      "In other ways, the STS literature is broader. Although imaginaries cites 88000 references and STS 76000,which is roughly commensurate, STS cites **11388** or so  references more than once whereas the imaginaries literature only cites **4300**. This is despite the fact that they are roughly the same size. This suggests that STS actually draws on a wider span of publications than the imaginaries literature. \n",
      "\n",
      "More importantly, the citation counts are massively higher in the STS literature. (Collins 2002) is higher than Appadurai in the imaginaries literature. Despite the breadth of its cited literature, STS is a much more focused literature. It cites the same references more often."
     ]
    },
    {
     "cell_type": "code",
     "collapsed": false,
     "input": [
      "print(pd.DataFrame(stsref_counts_s[stsref_counts_s>10]).head(50))"
     ],
     "language": "python",
     "metadata": {},
     "outputs": [
      {
       "output_type": "stream",
       "stream": "stdout",
       "text": [
        "                                                                                  0\n",
        "nan                                                                             446\n",
        "latour b., 1987, sci action follow sc                                           183\n",
        "latour b., 1987, sci action                                                     112\n",
        "latour b, 1979, laboratory life soci                                             96\n",
        "pinch t, 1987, social construction                                               91\n",
        "star sl, 1989, soc stud sci, v19, p387, doi 10.1177/030631289019003001           89\n",
        "collins hm, 1985, changing order repli                                           86\n",
        "bloor d, 1976, knowledge social ima                                              81\n",
        "gilbert g. n., 1984, opening pandoras box                                        72\n",
        "callon m., 1986, power action belief, p196                                       68\n",
        "gieryn tf, 1983, am sociol rev, v48, p781, doi 10.2307/2095325                   66\n",
        "karin knorr-cetina, 1981, manufacture knowledg                                   64\n",
        "latour b., 1993, we have never been m                                            64\n",
        "shapin s., 1985, leviathan air pump h                                            62\n",
        "haraway donna j., 1991, simians cyborgs wome                                     62\n",
        "epstein s., 1996, impure sci aids acti                                           61\n",
        "kuhn ts, 1970, structure sci revolu                                              61\n",
        "gieryn thomas f., 1999, cultural boundaries                                      61\n",
        "traweek s., 1988, beamtimes lifetimes                                            61\n",
        "collins hm, 1975, sociology, v9, p205, doi 10.1177/003803857500900202            61\n",
        "latour b., 1988, pasteurization franc                                            60\n",
        "haraway d, 1997, modest witness 2 mil                                            60\n",
        "collins hm, 2002, soc stud sci, v32, p235, doi 10.1177/0306312702032002003       57\n",
        "latour bruno, 1986, lab life constructio                                         56\n",
        "hughes t., 1983, networks power elect                                            54\n",
        "pinch tj, 1984, soc stud sci, v14, p399, doi 10.1177/030631284014003004          54\n",
        "bowker gc, 1999, sorting things out c                                            53\n",
        "akrich m., 1992, shaping technology b, p205                                      53\n",
        "gibbons m., 1994, new production knowl                                           52\n",
        "porter t. m., 1995, trust numbers pursui                                         52\n",
        "kuhn ts, 1962, structure sci revolu                                              52\n",
        "mol a., 2002, body multiple ontolo                                               51\n",
        "latour b., 1983, sci observed perspec, p141                                      49\n",
        "latour b, 1979, lab life social cons                                             49\n",
        "jasanoff s, 1990, 5 branch sci adviser                                           48\n",
        "collins hm, 1974, sci stud, v4, p165, doi 10.1177/030631277400400203             48\n",
        "beck u, 1992, risk soc new moderni                                               48\n",
        "latour b., 1999, pandoras hope essays                                            47\n",
        "jasanoff sheila, 2005, designs nature sci d                                      46\n",
        "fujimura jh, 1987, soc stud sci, v17, p257, doi 10.1177/030631287017002003       46\n",
        "garfinkel h., 1967, studies ethnomethodo                                         45\n",
        "bijker w., 1995, bicycles bakelites b                                            44\n",
        "callon m., 1986, mapping dynamics sci                                            43\n",
        "shapin steve, 1985, leviathan air pump                                           43\n",
        "collins hm, 1981, soc stud sci, v11, p3, doi 10.1177/030631278101100101          41\n",
        "pickering a, 1995, mangle practice time                                          40\n",
        "suchman lucy a., 1987, plans situated actio                                      39\n",
        "mackenzie d, 1985, social shaping techn                                          39\n",
        "mulkay mj, 1976, soc sci inform, v15, p637, doi 10.1177/053901847601500406       39\n",
        "winner l, 1993, sci technol hum val, v18, p362, doi 10.1177/016224399301800306   39\n"
       ]
      }
     ],
     "prompt_number": 20
    },
    {
     "cell_type": "markdown",
     "metadata": {},
     "source": [
      "## The intersection between the STS and the imaginaries literature\n",
      "\n",
      "A couple of questions here:\n",
      "\n",
      "1. What is intersection between the most-cited references in STS and imaginaries?\n",
      "2. How does STS literature cite the imaginaries literature?\n",
      "3. How is the STS literature present in the imaginaries literature?\n"
     ]
    },
    {
     "cell_type": "markdown",
     "metadata": {},
     "source": [
      "### Who do they both cite? The intersection between STS and imaginaries in terms of who they both cite ('co-citation')\n",
      "\n",
      "The overlap in the cited references is around **2500** references. "
     ]
    },
    {
     "cell_type": "code",
     "collapsed": false,
     "input": [
      "print(str(len(cited_ref_set.intersection(stscited_ref_set))) + ' references are found in the cited references in both literatures')"
     ],
     "language": "python",
     "metadata": {},
     "outputs": [
      {
       "output_type": "stream",
       "stream": "stdout",
       "text": [
        "2456 references are found in the cited references in both literatures\n"
       ]
      }
     ],
     "prompt_number": 21
    },
    {
     "cell_type": "markdown",
     "metadata": {},
     "source": [
      "Here is the list of references that are common to both -- too long to look at properly. It'd be good to sort them by order of importance -- e.g. how often they are cited."
     ]
    },
    {
     "cell_type": "code",
     "collapsed": true,
     "input": [
      "stsim_cocit = sorted(list(cited_ref_set.intersection(stscited_ref_set)))\n",
      "stsim_cocit[100:120]"
     ],
     "language": "python",
     "metadata": {},
     "outputs": [
      {
       "output_type": "pyout",
       "prompt_number": 22,
       "text": [
        "['armstrong d, 1995, sociol health ill, v17, p393, doi 10.1111/1467-9566.ep10933329',\n",
        " 'arnheim rudolf, 1969, visual thinking',\n",
        " 'arnold david, 1993, colonizing body stat',\n",
        " 'aronowitz r. a., 1998, making sense illness',\n",
        " 'arrigo ba, 2001, int j offender ther, v45, p325, doi 10.1177/0306624x01453005',\n",
        " 'ashmore m., 1989, reflexive thesis wri',\n",
        " 'atkinson j. m., 1979, order court org verb',\n",
        " 'atkinson j. m., 1984, our masters voices l',\n",
        " 'atkinson p., 1990, ethnographic imagina',\n",
        " 'atran s, 1998, behav brain sci, v21, p547',\n",
        " 'attwood d. w., 1992, raising cane politic',\n",
        " 'auckland l., 2010, b atomic sci',\n",
        " 'auge marc, 1995, nonplaces intro anth',\n",
        " 'austin j. l., 1962, things words',\n",
        " 'austin j.l., 1962, sense sensibilia',\n",
        " 'austin jl, 1962, how to do things wor',\n",
        " 'bachelard g., 1983, water dreams essay i',\n",
        " 'bachelard g., 1984, new sci spirit',\n",
        " 'bailey s., 1992, sch shortchange girl',\n",
        " 'baird d, 2004, thing knowledge: a philosophy of scientific instruments, p1']"
       ]
      }
     ],
     "prompt_number": 22
    },
    {
     "cell_type": "markdown",
     "metadata": {},
     "source": [
      "Given this is too long to look at, we might be able to get a rough idea by counting the surnames -- this is rough, but gives an idea of where the overlap lies:"
     ]
    },
    {
     "cell_type": "code",
     "collapsed": false,
     "input": [
      "\n",
      "author_refs = [ref.split(' ')[0] for ref in stsim_cocit]\n",
      "author_refs_set = set(author_refs)\n",
      "au_counts = {au:author_refs.count(au)  for au in author_refs_set}\n",
      "sts_im_cited_intersection = sorted(au_counts.iteritems(), key=operator.itemgetter(1), reverse=True)\n",
      "\n",
      "print('There are ' + str(len(sts_im_cited_intersection)) + ' references co-cited between the imaginaries and STS literature\\n\\n')\n",
      "print(pd.DataFrame(sts_im_cited_intersection[0:100],columns=['author', 'count']).head(30))\n"
     ],
     "language": "python",
     "metadata": {},
     "outputs": [
      {
       "output_type": "stream",
       "stream": "stdout",
       "text": [
        "There are 1397 references co-cited between the imaginaries and STS literature\n",
        "\n",
        "\n",
        "       author  count\n",
        "0    foucault     42\n",
        "1      latour     37\n",
        "2    bourdieu     15\n",
        "3        beck     14\n",
        "4         law     14\n",
        "5    jasanoff     14\n",
        "6   mackenzie     13\n",
        "7    habermas     13\n",
        "8   strathern     13\n",
        "9    williams     12\n",
        "10    haraway     12\n",
        "11      brown     11\n",
        "12    derrida     11\n",
        "13   thompson     11\n",
        "14       rose     11\n",
        "15         de     10\n",
        "16    goffman     10\n",
        "17     callon     10\n",
        "18     butler     10\n",
        "19      smith     10\n",
        "20    rabinow     10\n",
        "21     miller      9\n",
        "22      wynne      9\n",
        "23     thrift      9\n",
        "24     martin      9\n",
        "25        van      9\n",
        "26     cooper      8\n",
        "27   anderson      8\n",
        "28     taylor      8\n",
        "29     clarke      8\n"
       ]
      }
     ],
     "prompt_number": 23
    },
    {
     "cell_type": "markdown",
     "metadata": {},
     "source": [
      " \n",
      "\n",
      "There are **1497** references co-cited by the imaginaries and STS literature. Again, this is somewhat rough because it is just using surnames. These references could be grouped in different ways, but a couple of features standout. \n",
      "\n",
      "-  The philosophy intersection -- Foucault, Derrida, Marx, Deleuze, Wittgenstein, Heidegger, Baumann, Benjamin, Zizek, Butler\n",
      "-  The sociology intersection -- Bourdieu, Goffman, Beck, Williams, Castells, Merton, Weber, Baudrillard, Luhmann, Boltanski\n",
      "-  The political theory intersection -- Habermas, Laclau, Mouffe, Taylor, Dean\n",
      "-  The STSish intersections -- Latour, Law, Callon, Jasanoff, Wynne, Rheinberger, Mackenzie, Suchman, Pickering, Woolgar, Barry, Bijker, Collins\n",
      "-  The feminist intersection -- Butler, Haraway\n",
      "-  The anthropology intersection -- Strathern, Rabinow, Franklin, Appadurai,Comaroff, Geertz, Lock\n",
      "-  The historian/philospher of science intersection -- Kuhn, Hacking, Porter, Young, Daston\n",
      "-  The media/cultural studies intersection -- Hall, Williams, Haraway, Keller\n",
      "\n"
     ]
    },
    {
     "cell_type": "markdown",
     "metadata": {},
     "source": [
      "### How is the STS literature included in the imaginaries literature?\n",
      "\n",
      "This question can be answered a couple of different ways:\n",
      "\n",
      "- the STS literature is a part of the imaginaries literature, but only a small part judged by journal articles. Of the 3500 imaginaries publications, only a dozen or so appear in STS journals."
     ]
    },
    {
     "cell_type": "code",
     "collapsed": false,
     "input": [
      "# query for journal SOC STUD SCI, SCI TECHNOL HUM VAL, SCIENCE CULTURE in the imaginaries dataset\n",
      "sss = 'SOC STUD SCI|Social Studies of Science'\n",
      "sthv = 'SCI TECHNOL HUM VAL|SCIENCE TECHNOLOGY & HUMAN VALUES'\n",
      "sac = 'SCIENCE AS CULTURE'\n",
      "patn = re.compile('|'.join([sss, sthv, sac]), re.IGNORECASE)\n",
      "\n",
      "journals = imdf.SO.tolist()\n",
      "\n",
      "l=[i.group() for i in [patn.search(str(s)) for s in journals] if i is not None]\n",
      "print(str(len(l)) + ' STS journal articles appear in the imaginaries literature')\n"
     ],
     "language": "python",
     "metadata": {},
     "outputs": [
      {
       "output_type": "stream",
       "stream": "stdout",
       "text": [
        "10 STS journal articles appear in the imaginaries literature\n"
       ]
      }
     ],
     "prompt_number": 24
    },
    {
     "cell_type": "markdown",
     "metadata": {},
     "source": [
      "- How does the imaginaries literature cite authors who 'belong' to sts? There are around 2500 STS authors in the STS literature. How are they cited amidst the 88000 references cited in the imaginaries literature?"
     ]
    },
    {
     "cell_type": "code",
     "collapsed": false,
     "input": [
      "# set of unique sts authors\n",
      "stsau = list(ca.author_list(stsdf, True))\n",
      "\n",
      "#take out commas\n",
      "stsau_pattern= ['('+au.replace(',', '')+')' for au in stsau]\n",
      "\n",
      "# regular expressions can only deal with 100 at a time, so break pattern into chunks\n",
      "au_patterns = [re.compile('|'.join(stsau_pattern[i:i+99])) for i in xrange(0, len(stsau_pattern), 99)]"
     ],
     "language": "python",
     "metadata": {},
     "outputs": [],
     "prompt_number": 25
    },
    {
     "cell_type": "code",
     "collapsed": false,
     "input": [
      "# search for all sts literature authors in the cited references of the imaginaries literature\n",
      "# this search takes a while as it is searching for how often 2500 authors appear in the 88000 cited references\n",
      "res_full=[au_pattern.search(ref)  for ref in cited_refs_full for au_pattern in au_patterns]"
     ],
     "language": "python",
     "metadata": {},
     "outputs": [],
     "prompt_number": 16
    },
    {
     "cell_type": "code",
     "collapsed": true,
     "input": [
      "# count how often they appear in the cited refs for imaginaries literature\n",
      "sts_authors_cited = sorted([r.group() for  r in res_full if r is not None and len(r.group())>1])\n",
      "# load pickle below to save time"
     ],
     "language": "python",
     "metadata": {},
     "outputs": [
      {
       "ename": "NameError",
       "evalue": "name 'res_full' is not defined",
       "output_type": "pyerr",
       "traceback": [
        "\u001b[1;31m---------------------------------------------------------------------------\u001b[0m\n\u001b[1;31mNameError\u001b[0m                                 Traceback (most recent call last)",
        "\u001b[1;32m<ipython-input-56-c42f1aad2d27>\u001b[0m in \u001b[0;36m<module>\u001b[1;34m()\u001b[0m\n\u001b[0;32m      1\u001b[0m \u001b[1;31m# count how often they appear in the cited refs for imaginaries literature\u001b[0m\u001b[1;33m\u001b[0m\u001b[1;33m\u001b[0m\u001b[0m\n\u001b[1;32m----> 2\u001b[1;33m \u001b[0msts_authors_cited\u001b[0m \u001b[1;33m=\u001b[0m \u001b[0msorted\u001b[0m\u001b[1;33m(\u001b[0m\u001b[1;33m[\u001b[0m\u001b[0mr\u001b[0m\u001b[1;33m.\u001b[0m\u001b[0mgroup\u001b[0m\u001b[1;33m(\u001b[0m\u001b[1;33m)\u001b[0m \u001b[1;32mfor\u001b[0m  \u001b[0mr\u001b[0m \u001b[1;32min\u001b[0m \u001b[0mres_full\u001b[0m \u001b[1;32mif\u001b[0m \u001b[0mr\u001b[0m \u001b[1;32mis\u001b[0m \u001b[1;32mnot\u001b[0m \u001b[0mNone\u001b[0m \u001b[1;32mand\u001b[0m \u001b[0mlen\u001b[0m\u001b[1;33m(\u001b[0m\u001b[0mr\u001b[0m\u001b[1;33m.\u001b[0m\u001b[0mgroup\u001b[0m\u001b[1;33m(\u001b[0m\u001b[1;33m)\u001b[0m\u001b[1;33m)\u001b[0m\u001b[1;33m>\u001b[0m\u001b[1;36m1\u001b[0m\u001b[1;33m]\u001b[0m\u001b[1;33m)\u001b[0m\u001b[1;33m\u001b[0m\u001b[0m\n\u001b[0m\u001b[0;32m      3\u001b[0m \u001b[1;31m# load pickle above to save time\u001b[0m\u001b[1;33m\u001b[0m\u001b[1;33m\u001b[0m\u001b[0m\n",
        "\u001b[1;31mNameError\u001b[0m: name 'res_full' is not defined"
       ]
      }
     ],
     "prompt_number": 56
    },
    {
     "cell_type": "code",
     "collapsed": false,
     "input": [
      "# has been pickled to save time \n",
      "# if rerunning, need to pickle again, etc.\n",
      "#pickle.dump(sts_authors_cited, file=open(name='sts_cited_authors_cited.pyd', mode='wb'))\n",
      "sts_authors_cited = pickle.load(file=open('sts_cited_authors_cited.pyd', mode='rb'))"
     ],
     "language": "python",
     "metadata": {},
     "outputs": [],
     "prompt_number": 26
    },
    {
     "cell_type": "code",
     "collapsed": false,
     "input": [
      "print('There are ' + str(len(sts_authors_cited)) + ' references to STS authors in the imaginaries literature')"
     ],
     "language": "python",
     "metadata": {},
     "outputs": [
      {
       "output_type": "stream",
       "stream": "stdout",
       "text": [
        "There are 2564 references to STS authors in the imaginaries literature\n"
       ]
      }
     ],
     "prompt_number": 27
    },
    {
     "cell_type": "markdown",
     "metadata": {},
     "source": [
      "The author names need to be cleaned up for duplicates,etc, but it is fairly clear that the imaginaries literature cites the STS literature along similar lines fairly heavily. Some of the authors in the STS literature are not particularly STSish (e.g. Sherry Turkle or Mary Douglas or Douglas Kellner).  \n",
      "\n",
      "More importantly, it is fairly clear that only a **relatively small proportion** of the STS literature enters into the imaginaries literature. The total STS references amount to **2500** of the 88000, and the number of authors who actually get cited more than a few times account for the vast majority of citations of STS literature in the imaginaries literature (1800 out of 2500) is quite small -- around **150** authors.\n",
      "\n"
     ]
    },
    {
     "cell_type": "code",
     "collapsed": false,
     "input": [
      "sts_authors_cited_counts = {au:sts_authors_cited.count(au) for au in set(sts_authors_cited)}\n",
      "sorted_sts_cited_authors = sorted(sts_authors_cited_counts.iteritems(), key=operator.itemgetter(1), reverse=True)\n",
      "\n",
      "print(str(len(sorted_sts_cited_authors)) + ' STS authors are cited in the imaginaries literature')\n",
      "print(str(len([a for a in sorted_sts_cited_authors if a[1]>=5])) + ' of these are cited 5 or more times')\n",
      "print(str(sum([cited[1] for cited in sorted_sts_cited_authors if cited[1] >=5])) + ' of the 2500 references from STS come this latter group')\n",
      "print('\\n\\n')\n",
      "\n",
      "print(pd.DataFrame(sorted_sts_cited_authors[0:30], columns=['author', 'count']).head(30))"
     ],
     "language": "python",
     "metadata": {},
     "outputs": [
      {
       "output_type": "stream",
       "stream": "stdout",
       "text": [
        "526 STS authors are cited in the imaginaries literature\n",
        "145 of these are cited 5 or more times\n",
        "1846 of the 2500 references from STS come this latter group\n",
        "\n",
        "\n",
        "\n",
        "          author  count\n",
        "0       latour b    188\n",
        "1          law j     79\n",
        "2         berg m     53\n",
        "3        smith d     50\n",
        "4       taylor p     44\n",
        "5      douglas m     39\n",
        "6          ney s     33\n",
        "7       callon m     33\n",
        "8     jasanoff s     30\n",
        "9         mann g     27\n",
        "10       smith r     25\n",
        "11      martin e     24\n",
        "12       brown p     23\n",
        "13   mackenzie d     23\n",
        "14       wynne b     21\n",
        "15   geschiere p     21\n",
        "16         bal r     20\n",
        "17     taylor pj     19\n",
        "18       nandy a     19\n",
        "19         lee s     18\n",
        "20       smith e     18\n",
        "21     kellner d     18\n",
        "22  latour bruno     17\n",
        "23       cohen l     17\n",
        "24    johnston r     17\n",
        "25        hard m     16\n",
        "26      martin p     16\n",
        "27         lee j     15\n",
        "28      turkle s     15\n",
        "29    williams b     15\n"
       ]
      }
     ],
     "prompt_number": 28
    },
    {
     "cell_type": "markdown",
     "metadata": {},
     "source": [
      "These authors are not the quite the same authors who appeared in the intersection between the imaginaries and STS citations. Here we are looking at how often people publishing in STS journals are cited in imaginaries literature. Some of the names are the same -- Latour, Law, Mackenzie, Wynne -- but many of the top names in the intersection between the cited references do not appear here -- Haraway, Foucault, Strathern -- mainly because they have never published in STS journals. \n",
      "\n",
      "There are also names here -- Marc Berg, Emily Martin -- that didn't appear in the imaginaries-STS intersection at all. These are cases where STS work is being taken into the wider imaginaries literature."
     ]
    },
    {
     "cell_type": "markdown",
     "metadata": {},
     "source": [
      "### How does the STS literature cite the imaginaries literature?\n",
      "\n",
      "This is a key question. To get a rough idea, look for which of the 3868 imaginaries authors are cited in the 76000 references cited in sts literature."
     ]
    },
    {
     "cell_type": "code",
     "collapsed": false,
     "input": [
      "# set of unique sts authors\n",
      "imau = list(ca.author_list(imdf, True))\n",
      "\n",
      "#take out commas\n",
      "imau_pattern= ['('+au.replace(',', '')+')' for au in imau]\n",
      "\n",
      "# regular expressions can only deal with 100 at a time, so break pattern into chunks\n",
      "\n",
      "imau_patterns = [re.compile('|'.join(imau_pattern[i:i+99])) for i in xrange(0, len(imau_pattern), 99)]\n",
      "print('There are ' + str(len(imau)) + ' unique authors in imaginaries literature')"
     ],
     "language": "python",
     "metadata": {},
     "outputs": [
      {
       "output_type": "stream",
       "stream": "stdout",
       "text": [
        "There are 3868 unique authors in imaginaries literature\n"
       ]
      }
     ],
     "prompt_number": 29
    },
    {
     "cell_type": "code",
     "collapsed": true,
     "input": [
      "imres_full=[imau_pattern.search(ref)  for ref in stscited_refs_full for imau_pattern in imau_patterns]"
     ],
     "language": "python",
     "metadata": {},
     "outputs": [],
     "prompt_number": "*"
    },
    {
     "cell_type": "markdown",
     "metadata": {},
     "source": [
      "Here is the list of imaginary authors cited in the sts literature. Some of them are STS people, since STS authors have contributed to the imaginaries literature, especially when they published outside the major STS journals."
     ]
    },
    {
     "cell_type": "code",
     "collapsed": false,
     "input": [
      "\n",
      "print(set(sorted([r.group() for  r in imres_full if r is not None and len(r.group())>1])))"
     ],
     "language": "python",
     "metadata": {},
     "outputs": [],
     "prompt_number": "*"
    },
    {
     "cell_type": "markdown",
     "metadata": {},
     "source": [
      "Breaking this down a bit further,  if the STS literature cites around 7500 unique references, roughly 350 of these come from the imaginaries literature authors. Amongst this group, roughly 100 imaginaries authors account for most of the references from the STS literature. Judging from the list below, some of the key references are authors who overlap between STS and other fields. "
     ]
    },
    {
     "cell_type": "code",
     "collapsed": false,
     "input": [
      "im_authors_cited = sorted([r.group() for  r in imres_full if r is not None and len(r.group())>1])\n",
      "\n",
      "print('There are ' + str(len(im_authors_cited)) + ' references to imaginary authors in the STS literature')\n",
      "im_authors_cited_counts = {au:im_authors_cited.count(au) for au in set(im_authors_cited)}\n",
      "sorted_im_cited_authors = sorted(im_authors_cited_counts.iteritems(), key=operator.itemgetter(1), reverse=True)\n",
      "im_au_total = len(im_authors_cited)\n",
      "print(str(len(sorted_im_cited_authors)) + ' individual imaginary authors are cited in the STS literature')\n",
      "print(str(len([a for a in sorted_im_cited_authors if a[1]>=5])) + ' of these are cited 5 or more times')\n",
      "print(str(sum([cited[1] for cited in sorted_im_cited_authors if cited[1] >=5])) + ' of the ' + str(im_au_total) + ' references from STS come this latter group')\n",
      "print('\\n')\n",
      "\n",
      "print(sorted_im_cited_authors[0:30])"
     ],
     "language": "python",
     "metadata": {},
     "outputs": [
      {
       "output_type": "stream",
       "stream": "stdout",
       "text": [
        "There are 4035 references to imaginary authors in the STS literature\n",
        "364 individual imaginary authors are cited in the STS literature\n",
        "105 of these are cited 5 or more times"
       ]
      },
      {
       "output_type": "stream",
       "stream": "stdout",
       "text": [
        "\n",
        "3587 of the 4035 references from STS come this latter group\n",
        "\n",
        "\n",
        "[('nan', 1054), ('wynne b', 410), ('star sl', 214), ('an g', 208), ('jasanoff sheila', 113), ('bowker gc', 99), ('roy s', 89), ('edwards p', 79), ('bell d', 66), ('smith d', 55), ('miller c', 48), ('berger h', 45), ('king a', 39), ('brown j', 38), ('hall s', 30), ('miller d', 30), ('pels d', 28), ('ross a', 28), ('white l', 26), ('gottweis h', 25), ('taylor c', 25), ('wright l', 24), ('porter r', 20), ('friedman m', 20), ('ford p', 20), ('witz a', 19), ('greene j', 19), ('mack j', 19), ('porter a', 18), ('waterton c', 18), ('davis d', 17), ('berman m', 17), ('hall d', 17), ('brown d', 16), ('cohen l', 16), ('rapp rayna', 15), ('joly p', 14), ('allen j', 14), ('thomas s', 14), ('deleuze gilles', 14), ('dean m', 13), ('fortun k', 13), ('fortun m', 13), ('ellis r', 12), ('white m', 12), ('adams j', 11), ('braun b', 11), ('cohen e', 11), ('thomas j', 11), ('rossi p', 11)]\n"
       ]
      }
     ],
     "prompt_number": 140
    },
    {
     "cell_type": "markdown",
     "metadata": {},
     "source": [
      "## What references are co-cited?\n",
      "\n",
      "So far, we have been looking at how the imaginaries literature is present in the STS literature, and vice versa. We have looked at this by looking for STS authors in the cited references, and in the \n",
      "\n",
      "Co-cited means that the same reference can be found cited in two 'different' publications. The fact that  two publications both cite the same reference suggests that have some relation. \n",
      "Here I looked at the cited references for all the imaginaries publications, and ask for all the intersections between cited references. The bigger the intersection between the reference lists, the more substantial is the relationship. Perhaps."
     ]
    },
    {
     "cell_type": "code",
     "collapsed": false,
     "input": [
      "im_co = ca.co_citation(imdf)\n",
      "sts_co = ca.co_citation(stsdf)"
     ],
     "language": "python",
     "metadata": {},
     "outputs": [],
     "prompt_number": 23
    },
    {
     "cell_type": "code",
     "collapsed": false,
     "input": [
      "print(str(len(im_co))+' co-citation sets exist in the imaginaries literature')\n",
      "print(str(len(sts_co))+' co-citation sets exist in the STS literature')\n"
     ],
     "language": "python",
     "metadata": {},
     "outputs": [
      {
       "output_type": "stream",
       "stream": "stdout",
       "text": [
        "58206 co-citation sets exist in the imaginaries literature\n",
        "312270 co-citation sets exist in the STS literature\n"
       ]
      }
     ],
     "prompt_number": 24
    },
    {
     "cell_type": "markdown",
     "metadata": {},
     "source": [
      "Again, the high co-citation count in STS literature shows that it is much more inwardly related than the imaginaries literature. The STS literature has roughly **five** times the number of co-citation sets as the imaginaries literature. "
     ]
    },
    {
     "cell_type": "code",
     "collapsed": false,
     "input": [
      "# only run this if repeating the analysis somehow\n",
      "\n",
      "pickle.dump(im_co, open('im_co_cit.pyd', 'w'))\n",
      "pickle.dump(sts_co, open('sts_co_cit.pyd', 'w'))"
     ],
     "language": "python",
     "metadata": {},
     "outputs": [],
     "prompt_number": 26
    },
    {
     "cell_type": "code",
     "collapsed": false,
     "input": [
      "# to see size of co-citation sets in sts\n",
      "sts_co = pickle.load(open('sts_co_cit.pyd', 'r'))\n",
      "im_co = pickle.load(open('im_co_cit.pyd', 'r'))                     \n",
      "#sorted([sts_co.count(set) for set in sts_co[0:2000]], reverse=True)[0:30]\n"
     ],
     "language": "python",
     "metadata": {},
     "outputs": [],
     "prompt_number": 20
    },
    {
     "cell_type": "code",
     "collapsed": false,
     "input": [
      "sts_co_set_lengths = sorted([len(s) for s in sts_co], reverse=True)\n",
      "im_co_set_lengths = sorted([len(s) for s in im_co], reverse=True)"
     ],
     "language": "python",
     "metadata": {},
     "outputs": [],
     "prompt_number": 28
    },
    {
     "cell_type": "code",
     "collapsed": false,
     "input": [
      "print('Size of co-cited reference sets in STS literature:', sts_co_set_lengths[0:100:2])\n",
      "print('Size of co-cited reference sets in imaginaries literature:', im_co_set_lengths[0:100:2])"
     ],
     "language": "python",
     "metadata": {},
     "outputs": [
      {
       "output_type": "stream",
       "stream": "stdout",
       "text": [
        "('Size of co-cited reference sets in STS literature:', [223, 170, 147, 142, 115, 103, 99, 91, 88, 82, 79, 77, 73, 69, 68, 67, 66, 64, 62, 60, 58, 58, 57, 56, 54, 54, 54, 50, 49, 44, 42, 40, 40, 38, 36, 36, 34, 32, 32, 32, 31, 31, 30, 29, 29, 29, 29, 28, 28, 28])\n",
        "('Size of co-cited reference sets in imaginaries literature:', [59, 27, 27, 25, 23, 23, 22, 18, 18, 17, 16, 14, 13, 13, 13, 12, 12, 11, 11, 11, 10, 10, 9, 9, 9, 9, 9, 9, 8, 8, 8, 8, 8, 8, 8, 8, 8, 8, 7, 7, 7, 7, 7, 7, 7, 7, 7, 7, 7, 7])\n"
       ]
      }
     ],
     "prompt_number": 40
    },
    {
     "cell_type": "markdown",
     "metadata": {},
     "source": [
      "Not sure what to make of this, but again, the much greater number of co-citations, and the higher co-citation counts in the STS literature suggest that it is much more internally related than the imaginaries literature. "
     ]
    }
   ],
   "metadata": {}
  }
 ]
}